{
  "cells": [
    {
      "cell_type": "code",
      "execution_count": null,
      "metadata": {
        "id": "778de266"
      },
      "outputs": [],
      "source": [
        "import tensorflow as tf\n",
        "import numpy as np\n",
        "import pandas as pd\n",
        "import matplotlib.pyplot as plt\n",
        "import seaborn as sns\n",
        "from sklearn.preprocessing import LabelEncoder\n",
        "from tensorflow.keras.callbacks import EarlyStopping\n",
        "from sklearn.model_selection import train_test_split\n",
        "from tensorflow.keras.models import Sequential\n",
        "from tensorflow.keras.layers import Dense, Activation\n",
        "from tensorflow.keras.optimizers import Adam\n",
        "from tensorflow.keras.callbacks import Callback, ModelCheckpoint\n",
        "from tensorflow.keras.layers import Dropout,Bidirectional,LSTM\n",
        "from sklearn.metrics import mean_absolute_error, max_error, mean_squared_error,mean_absolute_percentage_error\n",
        "%matplotlib inline"
      ],
      "id": "778de266"
    },
    {
      "cell_type": "code",
      "execution_count": null,
      "metadata": {
        "id": "4acdb31f"
      },
      "outputs": [],
      "source": [
        "file_path_train = \"London.csv\""
      ],
      "id": "4acdb31f"
    },
    {
      "cell_type": "code",
      "execution_count": null,
      "metadata": {
        "id": "2f35c8b7"
      },
      "outputs": [],
      "source": [
        "train_data = pd.read_csv(file_path_train)"
      ],
      "id": "2f35c8b7"
    },
    {
      "cell_type": "code",
      "execution_count": null,
      "metadata": {
        "colab": {
          "base_uri": "https://localhost:8080/",
          "height": 206
        },
        "id": "20ed32cf",
        "scrolled": true,
        "outputId": "b5544610-8f45-4bef-bc71-120d983c87e8"
      },
      "outputs": [
        {
          "output_type": "execute_result",
          "data": {
            "text/plain": [
              "   Unnamed: 0  Property Name    Price        House Type  Area in sq ft  \\\n",
              "0           0    Queens Road  1675000             House           2716   \n",
              "1           1  Seward Street   650000  Flat / Apartment            814   \n",
              "2           2    Hotham Road   735000  Flat / Apartment            761   \n",
              "3           3   Festing Road  1765000             House           1986   \n",
              "4           4   Spencer Walk   675000  Flat / Apartment            700   \n",
              "\n",
              "   No. of Bedrooms  No. of Bathrooms  No. of Receptions     Location  \\\n",
              "0                5                 5                  5    Wimbledon   \n",
              "1                2                 2                  2  Clerkenwell   \n",
              "2                2                 2                  2       Putney   \n",
              "3                4                 4                  4       Putney   \n",
              "4                2                 2                  2       Putney   \n",
              "\n",
              "  City/County Postal Code  \n",
              "0      London    SW19 8NY  \n",
              "1      London    EC1V 3PA  \n",
              "2      London    SW15 1QL  \n",
              "3      London    SW15 1LP  \n",
              "4      London    SW15 1PL  "
            ],
            "text/html": [
              "\n",
              "  <div id=\"df-c88c333e-82f9-41d2-b5dd-ca92cf506e90\">\n",
              "    <div class=\"colab-df-container\">\n",
              "      <div>\n",
              "<style scoped>\n",
              "    .dataframe tbody tr th:only-of-type {\n",
              "        vertical-align: middle;\n",
              "    }\n",
              "\n",
              "    .dataframe tbody tr th {\n",
              "        vertical-align: top;\n",
              "    }\n",
              "\n",
              "    .dataframe thead th {\n",
              "        text-align: right;\n",
              "    }\n",
              "</style>\n",
              "<table border=\"1\" class=\"dataframe\">\n",
              "  <thead>\n",
              "    <tr style=\"text-align: right;\">\n",
              "      <th></th>\n",
              "      <th>Unnamed: 0</th>\n",
              "      <th>Property Name</th>\n",
              "      <th>Price</th>\n",
              "      <th>House Type</th>\n",
              "      <th>Area in sq ft</th>\n",
              "      <th>No. of Bedrooms</th>\n",
              "      <th>No. of Bathrooms</th>\n",
              "      <th>No. of Receptions</th>\n",
              "      <th>Location</th>\n",
              "      <th>City/County</th>\n",
              "      <th>Postal Code</th>\n",
              "    </tr>\n",
              "  </thead>\n",
              "  <tbody>\n",
              "    <tr>\n",
              "      <th>0</th>\n",
              "      <td>0</td>\n",
              "      <td>Queens Road</td>\n",
              "      <td>1675000</td>\n",
              "      <td>House</td>\n",
              "      <td>2716</td>\n",
              "      <td>5</td>\n",
              "      <td>5</td>\n",
              "      <td>5</td>\n",
              "      <td>Wimbledon</td>\n",
              "      <td>London</td>\n",
              "      <td>SW19 8NY</td>\n",
              "    </tr>\n",
              "    <tr>\n",
              "      <th>1</th>\n",
              "      <td>1</td>\n",
              "      <td>Seward Street</td>\n",
              "      <td>650000</td>\n",
              "      <td>Flat / Apartment</td>\n",
              "      <td>814</td>\n",
              "      <td>2</td>\n",
              "      <td>2</td>\n",
              "      <td>2</td>\n",
              "      <td>Clerkenwell</td>\n",
              "      <td>London</td>\n",
              "      <td>EC1V 3PA</td>\n",
              "    </tr>\n",
              "    <tr>\n",
              "      <th>2</th>\n",
              "      <td>2</td>\n",
              "      <td>Hotham Road</td>\n",
              "      <td>735000</td>\n",
              "      <td>Flat / Apartment</td>\n",
              "      <td>761</td>\n",
              "      <td>2</td>\n",
              "      <td>2</td>\n",
              "      <td>2</td>\n",
              "      <td>Putney</td>\n",
              "      <td>London</td>\n",
              "      <td>SW15 1QL</td>\n",
              "    </tr>\n",
              "    <tr>\n",
              "      <th>3</th>\n",
              "      <td>3</td>\n",
              "      <td>Festing Road</td>\n",
              "      <td>1765000</td>\n",
              "      <td>House</td>\n",
              "      <td>1986</td>\n",
              "      <td>4</td>\n",
              "      <td>4</td>\n",
              "      <td>4</td>\n",
              "      <td>Putney</td>\n",
              "      <td>London</td>\n",
              "      <td>SW15 1LP</td>\n",
              "    </tr>\n",
              "    <tr>\n",
              "      <th>4</th>\n",
              "      <td>4</td>\n",
              "      <td>Spencer Walk</td>\n",
              "      <td>675000</td>\n",
              "      <td>Flat / Apartment</td>\n",
              "      <td>700</td>\n",
              "      <td>2</td>\n",
              "      <td>2</td>\n",
              "      <td>2</td>\n",
              "      <td>Putney</td>\n",
              "      <td>London</td>\n",
              "      <td>SW15 1PL</td>\n",
              "    </tr>\n",
              "  </tbody>\n",
              "</table>\n",
              "</div>\n",
              "      <button class=\"colab-df-convert\" onclick=\"convertToInteractive('df-c88c333e-82f9-41d2-b5dd-ca92cf506e90')\"\n",
              "              title=\"Convert this dataframe to an interactive table.\"\n",
              "              style=\"display:none;\">\n",
              "        \n",
              "  <svg xmlns=\"http://www.w3.org/2000/svg\" height=\"24px\"viewBox=\"0 0 24 24\"\n",
              "       width=\"24px\">\n",
              "    <path d=\"M0 0h24v24H0V0z\" fill=\"none\"/>\n",
              "    <path d=\"M18.56 5.44l.94 2.06.94-2.06 2.06-.94-2.06-.94-.94-2.06-.94 2.06-2.06.94zm-11 1L8.5 8.5l.94-2.06 2.06-.94-2.06-.94L8.5 2.5l-.94 2.06-2.06.94zm10 10l.94 2.06.94-2.06 2.06-.94-2.06-.94-.94-2.06-.94 2.06-2.06.94z\"/><path d=\"M17.41 7.96l-1.37-1.37c-.4-.4-.92-.59-1.43-.59-.52 0-1.04.2-1.43.59L10.3 9.45l-7.72 7.72c-.78.78-.78 2.05 0 2.83L4 21.41c.39.39.9.59 1.41.59.51 0 1.02-.2 1.41-.59l7.78-7.78 2.81-2.81c.8-.78.8-2.07 0-2.86zM5.41 20L4 18.59l7.72-7.72 1.47 1.35L5.41 20z\"/>\n",
              "  </svg>\n",
              "      </button>\n",
              "      \n",
              "  <style>\n",
              "    .colab-df-container {\n",
              "      display:flex;\n",
              "      flex-wrap:wrap;\n",
              "      gap: 12px;\n",
              "    }\n",
              "\n",
              "    .colab-df-convert {\n",
              "      background-color: #E8F0FE;\n",
              "      border: none;\n",
              "      border-radius: 50%;\n",
              "      cursor: pointer;\n",
              "      display: none;\n",
              "      fill: #1967D2;\n",
              "      height: 32px;\n",
              "      padding: 0 0 0 0;\n",
              "      width: 32px;\n",
              "    }\n",
              "\n",
              "    .colab-df-convert:hover {\n",
              "      background-color: #E2EBFA;\n",
              "      box-shadow: 0px 1px 2px rgba(60, 64, 67, 0.3), 0px 1px 3px 1px rgba(60, 64, 67, 0.15);\n",
              "      fill: #174EA6;\n",
              "    }\n",
              "\n",
              "    [theme=dark] .colab-df-convert {\n",
              "      background-color: #3B4455;\n",
              "      fill: #D2E3FC;\n",
              "    }\n",
              "\n",
              "    [theme=dark] .colab-df-convert:hover {\n",
              "      background-color: #434B5C;\n",
              "      box-shadow: 0px 1px 3px 1px rgba(0, 0, 0, 0.15);\n",
              "      filter: drop-shadow(0px 1px 2px rgba(0, 0, 0, 0.3));\n",
              "      fill: #FFFFFF;\n",
              "    }\n",
              "  </style>\n",
              "\n",
              "      <script>\n",
              "        const buttonEl =\n",
              "          document.querySelector('#df-c88c333e-82f9-41d2-b5dd-ca92cf506e90 button.colab-df-convert');\n",
              "        buttonEl.style.display =\n",
              "          google.colab.kernel.accessAllowed ? 'block' : 'none';\n",
              "\n",
              "        async function convertToInteractive(key) {\n",
              "          const element = document.querySelector('#df-c88c333e-82f9-41d2-b5dd-ca92cf506e90');\n",
              "          const dataTable =\n",
              "            await google.colab.kernel.invokeFunction('convertToInteractive',\n",
              "                                                     [key], {});\n",
              "          if (!dataTable) return;\n",
              "\n",
              "          const docLinkHtml = 'Like what you see? Visit the ' +\n",
              "            '<a target=\"_blank\" href=https://colab.research.google.com/notebooks/data_table.ipynb>data table notebook</a>'\n",
              "            + ' to learn more about interactive tables.';\n",
              "          element.innerHTML = '';\n",
              "          dataTable['output_type'] = 'display_data';\n",
              "          await google.colab.output.renderOutput(dataTable, element);\n",
              "          const docLink = document.createElement('div');\n",
              "          docLink.innerHTML = docLinkHtml;\n",
              "          element.appendChild(docLink);\n",
              "        }\n",
              "      </script>\n",
              "    </div>\n",
              "  </div>\n",
              "  "
            ]
          },
          "metadata": {},
          "execution_count": 4
        }
      ],
      "source": [
        "train_data.head()"
      ],
      "id": "20ed32cf"
    },
    {
      "cell_type": "markdown",
      "metadata": {
        "id": "5853b2e7"
      },
      "source": [
        "# Feature Engeneering"
      ],
      "id": "5853b2e7"
    },
    {
      "cell_type": "code",
      "execution_count": null,
      "metadata": {
        "id": "tfZIUgMaBMEN"
      },
      "outputs": [],
      "source": [
        "train_data['Price'] = train_data['Price']"
      ],
      "id": "tfZIUgMaBMEN"
    },
    {
      "cell_type": "markdown",
      "metadata": {
        "id": "b1f06ca1"
      },
      "source": [
        "1) Null Values"
      ],
      "id": "b1f06ca1"
    },
    {
      "cell_type": "code",
      "execution_count": null,
      "metadata": {
        "colab": {
          "base_uri": "https://localhost:8080/"
        },
        "id": "d6b5554c",
        "outputId": "4635c7a6-2294-423d-b395-6803c3afea1a"
      },
      "outputs": [
        {
          "output_type": "execute_result",
          "data": {
            "text/plain": [
              "Unnamed: 0             0\n",
              "Property Name          0\n",
              "Price                  0\n",
              "House Type             0\n",
              "Area in sq ft          0\n",
              "No. of Bedrooms        0\n",
              "No. of Bathrooms       0\n",
              "No. of Receptions      0\n",
              "Location             962\n",
              "City/County            0\n",
              "Postal Code            0\n",
              "dtype: int64"
            ]
          },
          "metadata": {},
          "execution_count": 6
        }
      ],
      "source": [
        "train_data.isnull().sum()"
      ],
      "id": "d6b5554c"
    },
    {
      "cell_type": "markdown",
      "metadata": {
        "id": "fdf630a6"
      },
      "source": [
        "2) Price Outliers"
      ],
      "id": "fdf630a6"
    },
    {
      "cell_type": "code",
      "execution_count": null,
      "metadata": {
        "colab": {
          "base_uri": "https://localhost:8080/",
          "height": 362
        },
        "id": "65b91185",
        "outputId": "2b7a609c-61ee-4a46-b4b4-d40b6381242b"
      },
      "outputs": [
        {
          "output_type": "stream",
          "name": "stderr",
          "text": [
            "/usr/local/lib/python3.7/dist-packages/seaborn/distributions.py:2619: FutureWarning: `distplot` is a deprecated function and will be removed in a future version. Please adapt your code to use either `displot` (a figure-level function with similar flexibility) or `histplot` (an axes-level function for histograms).\n",
            "  warnings.warn(msg, FutureWarning)\n"
          ]
        },
        {
          "output_type": "execute_result",
          "data": {
            "text/plain": [
              "<matplotlib.axes._subplots.AxesSubplot at 0x7efefe1a2c10>"
            ]
          },
          "metadata": {},
          "execution_count": 7
        },
        {
          "output_type": "display_data",
          "data": {
            "text/plain": [
              "<Figure size 432x288 with 1 Axes>"
            ],
            "image/png": "[encoded data removed]"
          },
          "metadata": {
            "needs_background": "light"
          }
        }
      ],
      "source": [
        "sns.distplot(train_data['Price'])"
      ],
      "id": "65b91185"
    },
    {
      "cell_type": "code",
      "execution_count": null,
      "metadata": {
        "colab": {
          "base_uri": "https://localhost:8080/"
        },
        "id": "95c3c95b",
        "outputId": "9e0606fd-ea1b-41b7-eb63-739389e6c411"
      },
      "outputs": [
        {
          "output_type": "execute_result",
          "data": {
            "text/plain": [
              "1250000    59\n",
              "650000     54\n",
              "550000     54\n",
              "850000     52\n",
              "1100000    49\n",
              "           ..\n",
              "1065000     1\n",
              "3395000     1\n",
              "1180000     1\n",
              "2399500     1\n",
              "8650000     1\n",
              "Name: Price, Length: 536, dtype: int64"
            ]
          },
          "metadata": {},
          "execution_count": 8
        }
      ],
      "source": [
        "train_data['Price'].value_counts()"
      ],
      "id": "95c3c95b"
    },
    {
      "cell_type": "code",
      "execution_count": null,
      "metadata": {
        "colab": {
          "base_uri": "https://localhost:8080/"
        },
        "id": "d22e56a9",
        "outputId": "64344ab6-1237-47e0-8b30-f15f14d6869b"
      },
      "outputs": [
        {
          "output_type": "execute_result",
          "data": {
            "text/plain": [
              "104.39999999999999"
            ]
          },
          "metadata": {},
          "execution_count": 9
        }
      ],
      "source": [
        "len(train_data)*(0.03)"
      ],
      "id": "d22e56a9"
    },
    {
      "cell_type": "code",
      "execution_count": null,
      "metadata": {
        "id": "6b5424c5"
      },
      "outputs": [],
      "source": [
        "# Remove the price outliers\n",
        "train_data = train_data.sort_values('Price',ascending=False).iloc[884:] "
      ],
      "id": "6b5424c5"
    },
    {
      "cell_type": "code",
      "execution_count": null,
      "metadata": {
        "colab": {
          "base_uri": "https://localhost:8080/",
          "height": 362
        },
        "id": "31f2eec9",
        "scrolled": true,
        "outputId": "6aba362f-b359-47b8-b825-d9f2488f2f40"
      },
      "outputs": [
        {
          "output_type": "stream",
          "name": "stderr",
          "text": [
            "/usr/local/lib/python3.7/dist-packages/seaborn/distributions.py:2619: FutureWarning: `distplot` is a deprecated function and will be removed in a future version. Please adapt your code to use either `displot` (a figure-level function with similar flexibility) or `histplot` (an axes-level function for histograms).\n",
            "  warnings.warn(msg, FutureWarning)\n"
          ]
        },
        {
          "output_type": "execute_result",
          "data": {
            "text/plain": [
              "<matplotlib.axes._subplots.AxesSubplot at 0x7efefb788e10>"
            ]
          },
          "metadata": {},
          "execution_count": 11
        },
        {
          "output_type": "display_data",
          "data": {
            "text/plain": [
              "<Figure size 432x288 with 1 Axes>"
            ],
            "image/png": "[encoded data removed]"
          },
          "metadata": {
            "needs_background": "light"
          }
        }
      ],
      "source": [
        "sns.distplot(train_data['Price'])"
      ],
      "id": "31f2eec9"
    },
    {
      "cell_type": "code",
      "execution_count": null,
      "metadata": {
        "id": "oLonFzNTKzrP"
      },
      "outputs": [],
      "source": [
        "train_data = train_data.drop(['Unnamed: 0','Property Name','Location','Postal Code'], axis=1)"
      ],
      "id": "oLonFzNTKzrP"
    },
    {
      "cell_type": "code",
      "execution_count": null,
      "metadata": {
        "colab": {
          "base_uri": "https://localhost:8080/"
        },
        "id": "mlJbh5YeLxfv",
        "outputId": "cb8d5b57-9846-41fb-8858-b43e5125111c"
      },
      "outputs": [
        {
          "output_type": "stream",
          "name": "stdout",
          "text": [
            "<class 'pandas.core.frame.DataFrame'>\n",
            "Int64Index: 2596 entries, 1464 to 347\n",
            "Data columns (total 7 columns):\n",
            " #   Column             Non-Null Count  Dtype \n",
            "---  ------             --------------  ----- \n",
            " 0   Price              2596 non-null   int64 \n",
            " 1   House Type         2596 non-null   object\n",
            " 2   Area in sq ft      2596 non-null   int64 \n",
            " 3   No. of Bedrooms    2596 non-null   int64 \n",
            " 4   No. of Bathrooms   2596 non-null   int64 \n",
            " 5   No. of Receptions  2596 non-null   int64 \n",
            " 6   City/County        2596 non-null   object\n",
            "dtypes: int64(5), object(2)\n",
            "memory usage: 162.2+ KB\n"
          ]
        }
      ],
      "source": [
        "train_data.info()"
      ],
      "id": "mlJbh5YeLxfv"
    },
    {
      "cell_type": "code",
      "execution_count": null,
      "metadata": {
        "id": "RW73EFqd_cqW"
      },
      "outputs": [],
      "source": [
        "le = LabelEncoder()\n",
        "\n",
        "train_data['House Type'] = le.fit_transform(train_data['House Type'])\n",
        "train_data['City/County'] = le.fit_transform(train_data['City/County'])"
      ],
      "id": "RW73EFqd_cqW"
    },
    {
      "cell_type": "markdown",
      "metadata": {
        "id": "88df2517"
      },
      "source": [
        "7) Data Correlation"
      ],
      "id": "88df2517"
    },
    {
      "cell_type": "code",
      "execution_count": null,
      "metadata": {
        "colab": {
          "base_uri": "https://localhost:8080/"
        },
        "id": "0992d8e7",
        "outputId": "8184fa09-0fdd-420c-cbe8-d4b2a8f99536"
      },
      "outputs": [
        {
          "output_type": "execute_result",
          "data": {
            "text/plain": [
              "Price                1.000000\n",
              "House Type           0.139682\n",
              "Area in sq ft        0.709016\n",
              "No. of Bedrooms      0.638643\n",
              "No. of Bathrooms     0.638643\n",
              "No. of Receptions    0.638643\n",
              "City/County          0.091683\n",
              "Name: Price, dtype: float64"
            ]
          },
          "metadata": {},
          "execution_count": 15
        }
      ],
      "source": [
        "train_data.corr()['Price']"
      ],
      "id": "0992d8e7"
    },
    {
      "cell_type": "code",
      "execution_count": null,
      "metadata": {
        "colab": {
          "base_uri": "https://localhost:8080/",
          "height": 690
        },
        "id": "400ae1b2",
        "outputId": "5e6b6553-c729-494b-d362-d409072b5fd9"
      },
      "outputs": [
        {
          "output_type": "execute_result",
          "data": {
            "text/plain": [
              "<matplotlib.axes._subplots.AxesSubplot at 0x7efefbc95150>"
            ]
          },
          "metadata": {},
          "execution_count": 16
        },
        {
          "output_type": "display_data",
          "data": {
            "text/plain": [
              "<Figure size 864x720 with 2 Axes>"
            ],
            "image/png": "[encoded data removed]"
          },
          "metadata": {
            "needs_background": "light"
          }
        }
      ],
      "source": [
        "plt.figure(figsize=(12,10))\n",
        "sns.heatmap(train_data.corr(), annot=True, cmap='coolwarm')"
      ],
      "id": "400ae1b2"
    },
    {
      "cell_type": "markdown",
      "metadata": {
        "id": "ac43508d"
      },
      "source": [
        "# Processing the Data"
      ],
      "id": "ac43508d"
    },
    {
      "cell_type": "code",
      "execution_count": null,
      "metadata": {
        "colab": {
          "base_uri": "https://localhost:8080/",
          "height": 206
        },
        "id": "cbdcdec3",
        "outputId": "cdfc7702-4ee4-4339-f3c8-249fe0d9bd1d"
      },
      "outputs": [
        {
          "output_type": "execute_result",
          "data": {
            "text/plain": [
              "        Price  House Type  Area in sq ft  No. of Bedrooms  No. of Bathrooms  \\\n",
              "1464  2100000           3           2565                5                 5   \n",
              "1478  2100000           5           2132                4                 4   \n",
              "1583  2100000           2           1527                3                 3   \n",
              "611   2100000           3           2137                5                 5   \n",
              "857   2100000           3           1959                5                 5   \n",
              "\n",
              "      No. of Receptions  City/County  \n",
              "1464                  5           30  \n",
              "1478                  4           46  \n",
              "1583                  3           30  \n",
              "611                   5           30  \n",
              "857                   5           30  "
            ],
            "text/html": [
              "\n",
              "  <div id=\"df-75ced591-17eb-40a7-be7b-e52d64f6e0b9\">\n",
              "    <div class=\"colab-df-container\">\n",
              "      <div>\n",
              "<style scoped>\n",
              "    .dataframe tbody tr th:only-of-type {\n",
              "        vertical-align: middle;\n",
              "    }\n",
              "\n",
              "    .dataframe tbody tr th {\n",
              "        vertical-align: top;\n",
              "    }\n",
              "\n",
              "    .dataframe thead th {\n",
              "        text-align: right;\n",
              "    }\n",
              "</style>\n",
              "<table border=\"1\" class=\"dataframe\">\n",
              "  <thead>\n",
              "    <tr style=\"text-align: right;\">\n",
              "      <th></th>\n",
              "      <th>Price</th>\n",
              "      <th>House Type</th>\n",
              "      <th>Area in sq ft</th>\n",
              "      <th>No. of Bedrooms</th>\n",
              "      <th>No. of Bathrooms</th>\n",
              "      <th>No. of Receptions</th>\n",
              "      <th>City/County</th>\n",
              "    </tr>\n",
              "  </thead>\n",
              "  <tbody>\n",
              "    <tr>\n",
              "      <th>1464</th>\n",
              "      <td>2100000</td>\n",
              "      <td>3</td>\n",
              "      <td>2565</td>\n",
              "      <td>5</td>\n",
              "      <td>5</td>\n",
              "      <td>5</td>\n",
              "      <td>30</td>\n",
              "    </tr>\n",
              "    <tr>\n",
              "      <th>1478</th>\n",
              "      <td>2100000</td>\n",
              "      <td>5</td>\n",
              "      <td>2132</td>\n",
              "      <td>4</td>\n",
              "      <td>4</td>\n",
              "      <td>4</td>\n",
              "      <td>46</td>\n",
              "    </tr>\n",
              "    <tr>\n",
              "      <th>1583</th>\n",
              "      <td>2100000</td>\n",
              "      <td>2</td>\n",
              "      <td>1527</td>\n",
              "      <td>3</td>\n",
              "      <td>3</td>\n",
              "      <td>3</td>\n",
              "      <td>30</td>\n",
              "    </tr>\n",
              "    <tr>\n",
              "      <th>611</th>\n",
              "      <td>2100000</td>\n",
              "      <td>3</td>\n",
              "      <td>2137</td>\n",
              "      <td>5</td>\n",
              "      <td>5</td>\n",
              "      <td>5</td>\n",
              "      <td>30</td>\n",
              "    </tr>\n",
              "    <tr>\n",
              "      <th>857</th>\n",
              "      <td>2100000</td>\n",
              "      <td>3</td>\n",
              "      <td>1959</td>\n",
              "      <td>5</td>\n",
              "      <td>5</td>\n",
              "      <td>5</td>\n",
              "      <td>30</td>\n",
              "    </tr>\n",
              "  </tbody>\n",
              "</table>\n",
              "</div>\n",
              "      <button class=\"colab-df-convert\" onclick=\"convertToInteractive('df-75ced591-17eb-40a7-be7b-e52d64f6e0b9')\"\n",
              "              title=\"Convert this dataframe to an interactive table.\"\n",
              "              style=\"display:none;\">\n",
              "        \n",
              "  <svg xmlns=\"http://www.w3.org/2000/svg\" height=\"24px\"viewBox=\"0 0 24 24\"\n",
              "       width=\"24px\">\n",
              "    <path d=\"M0 0h24v24H0V0z\" fill=\"none\"/>\n",
              "    <path d=\"M18.56 5.44l.94 2.06.94-2.06 2.06-.94-2.06-.94-.94-2.06-.94 2.06-2.06.94zm-11 1L8.5 8.5l.94-2.06 2.06-.94-2.06-.94L8.5 2.5l-.94 2.06-2.06.94zm10 10l.94 2.06.94-2.06 2.06-.94-2.06-.94-.94-2.06-.94 2.06-2.06.94z\"/><path d=\"M17.41 7.96l-1.37-1.37c-.4-.4-.92-.59-1.43-.59-.52 0-1.04.2-1.43.59L10.3 9.45l-7.72 7.72c-.78.78-.78 2.05 0 2.83L4 21.41c.39.39.9.59 1.41.59.51 0 1.02-.2 1.41-.59l7.78-7.78 2.81-2.81c.8-.78.8-2.07 0-2.86zM5.41 20L4 18.59l7.72-7.72 1.47 1.35L5.41 20z\"/>\n",
              "  </svg>\n",
              "      </button>\n",
              "      \n",
              "  <style>\n",
              "    .colab-df-container {\n",
              "      display:flex;\n",
              "      flex-wrap:wrap;\n",
              "      gap: 12px;\n",
              "    }\n",
              "\n",
              "    .colab-df-convert {\n",
              "      background-color: #E8F0FE;\n",
              "      border: none;\n",
              "      border-radius: 50%;\n",
              "      cursor: pointer;\n",
              "      display: none;\n",
              "      fill: #1967D2;\n",
              "      height: 32px;\n",
              "      padding: 0 0 0 0;\n",
              "      width: 32px;\n",
              "    }\n",
              "\n",
              "    .colab-df-convert:hover {\n",
              "      background-color: #E2EBFA;\n",
              "      box-shadow: 0px 1px 2px rgba(60, 64, 67, 0.3), 0px 1px 3px 1px rgba(60, 64, 67, 0.15);\n",
              "      fill: #174EA6;\n",
              "    }\n",
              "\n",
              "    [theme=dark] .colab-df-convert {\n",
              "      background-color: #3B4455;\n",
              "      fill: #D2E3FC;\n",
              "    }\n",
              "\n",
              "    [theme=dark] .colab-df-convert:hover {\n",
              "      background-color: #434B5C;\n",
              "      box-shadow: 0px 1px 3px 1px rgba(0, 0, 0, 0.15);\n",
              "      filter: drop-shadow(0px 1px 2px rgba(0, 0, 0, 0.3));\n",
              "      fill: #FFFFFF;\n",
              "    }\n",
              "  </style>\n",
              "\n",
              "      <script>\n",
              "        const buttonEl =\n",
              "          document.querySelector('#df-75ced591-17eb-40a7-be7b-e52d64f6e0b9 button.colab-df-convert');\n",
              "        buttonEl.style.display =\n",
              "          google.colab.kernel.accessAllowed ? 'block' : 'none';\n",
              "\n",
              "        async function convertToInteractive(key) {\n",
              "          const element = document.querySelector('#df-75ced591-17eb-40a7-be7b-e52d64f6e0b9');\n",
              "          const dataTable =\n",
              "            await google.colab.kernel.invokeFunction('convertToInteractive',\n",
              "                                                     [key], {});\n",
              "          if (!dataTable) return;\n",
              "\n",
              "          const docLinkHtml = 'Like what you see? Visit the ' +\n",
              "            '<a target=\"_blank\" href=https://colab.research.google.com/notebooks/data_table.ipynb>data table notebook</a>'\n",
              "            + ' to learn more about interactive tables.';\n",
              "          element.innerHTML = '';\n",
              "          dataTable['output_type'] = 'display_data';\n",
              "          await google.colab.output.renderOutput(dataTable, element);\n",
              "          const docLink = document.createElement('div');\n",
              "          docLink.innerHTML = docLinkHtml;\n",
              "          element.appendChild(docLink);\n",
              "        }\n",
              "      </script>\n",
              "    </div>\n",
              "  </div>\n",
              "  "
            ]
          },
          "metadata": {},
          "execution_count": 17
        }
      ],
      "source": [
        "train_data.head()"
      ],
      "id": "cbdcdec3"
    },
    {
      "cell_type": "markdown",
      "metadata": {
        "id": "68a4e9fc"
      },
      "source": [
        "# Train Test Split"
      ],
      "id": "68a4e9fc"
    },
    {
      "cell_type": "code",
      "execution_count": null,
      "metadata": {
        "id": "6293c445"
      },
      "outputs": [],
      "source": [
        "X_train = train_data.drop('Price',axis=1).values\n",
        "Y_train = train_data['Price'].values\n",
        "\n",
        "X_train, X_test, Y_train, Y_test = train_test_split(X_train,Y_train,test_size=0.2,random_state=42)"
      ],
      "id": "6293c445"
    },
    {
      "cell_type": "markdown",
      "metadata": {
        "id": "5c185995"
      },
      "source": [
        "# Scaling"
      ],
      "id": "5c185995"
    },
    {
      "cell_type": "code",
      "execution_count": null,
      "metadata": {
        "id": "fff2f14a"
      },
      "outputs": [],
      "source": [
        "from sklearn.preprocessing import MinMaxScaler\n",
        "scaler = MinMaxScaler()"
      ],
      "id": "fff2f14a"
    },
    {
      "cell_type": "code",
      "execution_count": null,
      "metadata": {
        "id": "e7ba8a68"
      },
      "outputs": [],
      "source": [
        "X_train = scaler.fit_transform(X_train)"
      ],
      "id": "e7ba8a68"
    },
    {
      "cell_type": "code",
      "execution_count": null,
      "metadata": {
        "id": "bc7ca027"
      },
      "outputs": [],
      "source": [
        "X_test = scaler.transform(X_test)"
      ],
      "id": "bc7ca027"
    },
    {
      "cell_type": "code",
      "execution_count": null,
      "metadata": {
        "colab": {
          "base_uri": "https://localhost:8080/"
        },
        "id": "6e877e58",
        "outputId": "a68c374f-a5b1-4e6e-d9a1-97828e51d874"
      },
      "outputs": [
        {
          "output_type": "execute_result",
          "data": {
            "text/plain": [
              "(2076, 6)"
            ]
          },
          "metadata": {},
          "execution_count": 22
        }
      ],
      "source": [
        "X_train.shape"
      ],
      "id": "6e877e58"
    },
    {
      "cell_type": "code",
      "execution_count": null,
      "metadata": {
        "colab": {
          "base_uri": "https://localhost:8080/"
        },
        "id": "1016efaa",
        "outputId": "92969686-4852-42d9-8769-57c25f4bc569"
      },
      "outputs": [
        {
          "output_type": "execute_result",
          "data": {
            "text/plain": [
              "(520, 6)"
            ]
          },
          "metadata": {},
          "execution_count": 23
        }
      ],
      "source": [
        "X_test.shape"
      ],
      "id": "1016efaa"
    },
    {
      "cell_type": "markdown",
      "metadata": {
        "id": "f5e7b548"
      },
      "source": [
        "# Creating a Model"
      ],
      "id": "f5e7b548"
    },
    {
      "cell_type": "markdown",
      "metadata": {
        "id": "jYiywcBCaMGp"
      },
      "source": [
        "# ANN"
      ],
      "id": "jYiywcBCaMGp"
    },
    {
      "cell_type": "code",
      "execution_count": null,
      "metadata": {
        "id": "d43ed8d1"
      },
      "outputs": [],
      "source": [
        "model_price = Sequential()\n",
        "\n",
        "model_price.add(Dense(128,activation='relu',input_shape=(6,)))\n",
        "model_price.add(Dropout(0.5))\n",
        "model_price.add(Dense(64,activation='relu'))\n",
        "model_price.add(Dropout(0.5))\n",
        "model_price.add(Dense(32,activation='relu'))\n",
        "model_price.add(Dropout(0.5))\n",
        "model_price.add(Dense(16,activation='relu'))\n",
        "model_price.add(Dropout(0.5))\n",
        "model_price.add(Dense(1, activation = 'linear'))\n",
        "\n",
        "model_price.compile(optimizer='adam',loss='mean_squared_error')"
      ],
      "id": "d43ed8d1"
    },
    {
      "cell_type": "code",
      "execution_count": null,
      "metadata": {
        "id": "8f5b9680"
      },
      "outputs": [],
      "source": [
        "cb = EarlyStopping(monitor='val_loss', mode='min', verbose=1, patience=25)"
      ],
      "id": "8f5b9680"
    },
    {
      "cell_type": "markdown",
      "metadata": {
        "id": "eeb420d9"
      },
      "source": [
        "# Training The Model"
      ],
      "id": "eeb420d9"
    },
    {
      "cell_type": "code",
      "execution_count": null,
      "metadata": {
        "colab": {
          "base_uri": "https://localhost:8080/"
        },
        "id": "4d9cea3a",
        "outputId": "f1f045d7-a4ef-4313-fe58-f55b4f054760"
      },
      "outputs": [
        {
          "output_type": "stream",
          "name": "stdout",
          "text": [
            "Epoch 1/100\n",
            "17/17 [==============================] - 1s 12ms/step - loss: 1281063780352.0000 - val_loss: 1273699893248.0000\n",
            "Epoch 2/100\n",
            "17/17 [==============================] - 0s 5ms/step - loss: 1281061552128.0000 - val_loss: 1273695830016.0000\n",
            "Epoch 3/100\n",
            "17/17 [==============================] - 0s 5ms/step - loss: 1281053294592.0000 - val_loss: 1273680101376.0000\n",
            "Epoch 4/100\n",
            "17/17 [==============================] - 0s 5ms/step - loss: 1281021968384.0000 - val_loss: 1273623478272.0000\n",
            "Epoch 5/100\n",
            "17/17 [==============================] - 0s 6ms/step - loss: 1280919863296.0000 - val_loss: 1273445482496.0000\n",
            "Epoch 6/100\n",
            "17/17 [==============================] - 0s 5ms/step - loss: 1280608436224.0000 - val_loss: 1272964186112.0000\n",
            "Epoch 7/100\n",
            "17/17 [==============================] - 0s 6ms/step - loss: 1279852937216.0000 - val_loss: 1271806689280.0000\n",
            "Epoch 8/100\n",
            "17/17 [==============================] - 0s 5ms/step - loss: 1278117937152.0000 - val_loss: 1269272543232.0000\n",
            "Epoch 9/100\n",
            "17/17 [==============================] - 0s 7ms/step - loss: 1274587774976.0000 - val_loss: 1264150642688.0000\n",
            "Epoch 10/100\n",
            "17/17 [==============================] - 0s 5ms/step - loss: 1266896994304.0000 - val_loss: 1254324305920.0000\n",
            "Epoch 11/100\n",
            "17/17 [==============================] - 0s 5ms/step - loss: 1253797527552.0000 - val_loss: 1236758953984.0000\n",
            "Epoch 12/100\n",
            "17/17 [==============================] - 0s 5ms/step - loss: 1230763065344.0000 - val_loss: 1207627022336.0000\n",
            "Epoch 13/100\n",
            "17/17 [==============================] - 0s 5ms/step - loss: 1194503831552.0000 - val_loss: 1162299834368.0000\n",
            "Epoch 14/100\n",
            "17/17 [==============================] - 0s 5ms/step - loss: 1140868644864.0000 - val_loss: 1096033828864.0000\n",
            "Epoch 15/100\n",
            "17/17 [==============================] - 0s 4ms/step - loss: 1062857211904.0000 - val_loss: 1003136679936.0000\n",
            "Epoch 16/100\n",
            "17/17 [==============================] - 0s 5ms/step - loss: 954987642880.0000 - val_loss: 882315100160.0000\n",
            "Epoch 17/100\n",
            "17/17 [==============================] - 0s 6ms/step - loss: 828921806848.0000 - val_loss: 737098661888.0000\n",
            "Epoch 18/100\n",
            "17/17 [==============================] - 0s 5ms/step - loss: 669850468352.0000 - val_loss: 575126568960.0000\n",
            "Epoch 19/100\n",
            "17/17 [==============================] - 0s 5ms/step - loss: 535879450624.0000 - val_loss: 420145758208.0000\n",
            "Epoch 20/100\n",
            "17/17 [==============================] - 0s 6ms/step - loss: 415703629824.0000 - val_loss: 294474579968.0000\n",
            "Epoch 21/100\n",
            "17/17 [==============================] - 0s 5ms/step - loss: 339532546048.0000 - val_loss: 212754038784.0000\n",
            "Epoch 22/100\n",
            "17/17 [==============================] - 0s 5ms/step - loss: 304183705600.0000 - val_loss: 174936031232.0000\n",
            "Epoch 23/100\n",
            "17/17 [==============================] - 0s 6ms/step - loss: 299911479296.0000 - val_loss: 160572030976.0000\n",
            "Epoch 24/100\n",
            "17/17 [==============================] - 0s 6ms/step - loss: 322429616128.0000 - val_loss: 157330636800.0000\n",
            "Epoch 25/100\n",
            "17/17 [==============================] - 0s 5ms/step - loss: 304277323776.0000 - val_loss: 163361423360.0000\n",
            "Epoch 26/100\n",
            "17/17 [==============================] - 0s 5ms/step - loss: 304158932992.0000 - val_loss: 164103372800.0000\n",
            "Epoch 27/100\n",
            "17/17 [==============================] - 0s 4ms/step - loss: 301551452160.0000 - val_loss: 162302148608.0000\n",
            "Epoch 28/100\n",
            "17/17 [==============================] - 0s 5ms/step - loss: 306330959872.0000 - val_loss: 159812075520.0000\n",
            "Epoch 29/100\n",
            "17/17 [==============================] - 0s 6ms/step - loss: 303747760128.0000 - val_loss: 158857166848.0000\n",
            "Epoch 30/100\n",
            "17/17 [==============================] - 0s 5ms/step - loss: 302170472448.0000 - val_loss: 157945315328.0000\n",
            "Epoch 31/100\n",
            "17/17 [==============================] - 0s 5ms/step - loss: 298370531328.0000 - val_loss: 156845441024.0000\n",
            "Epoch 32/100\n",
            "17/17 [==============================] - 0s 4ms/step - loss: 292576165888.0000 - val_loss: 156046950400.0000\n",
            "Epoch 33/100\n",
            "17/17 [==============================] - 0s 6ms/step - loss: 307727794176.0000 - val_loss: 155327168512.0000\n",
            "Epoch 34/100\n",
            "17/17 [==============================] - 0s 5ms/step - loss: 300569001984.0000 - val_loss: 158627364864.0000\n",
            "Epoch 35/100\n",
            "17/17 [==============================] - 0s 5ms/step - loss: 292249796608.0000 - val_loss: 158549409792.0000\n",
            "Epoch 36/100\n",
            "17/17 [==============================] - 0s 4ms/step - loss: 300931448832.0000 - val_loss: 161975730176.0000\n",
            "Epoch 37/100\n",
            "17/17 [==============================] - 0s 6ms/step - loss: 292690919424.0000 - val_loss: 155542552576.0000\n",
            "Epoch 38/100\n",
            "17/17 [==============================] - 0s 5ms/step - loss: 300626870272.0000 - val_loss: 157199433728.0000\n",
            "Epoch 39/100\n",
            "17/17 [==============================] - 0s 5ms/step - loss: 285244981248.0000 - val_loss: 156753739776.0000\n",
            "Epoch 40/100\n",
            "17/17 [==============================] - 0s 6ms/step - loss: 297470492672.0000 - val_loss: 154302971904.0000\n",
            "Epoch 41/100\n",
            "17/17 [==============================] - 0s 4ms/step - loss: 281585745920.0000 - val_loss: 152186241024.0000\n",
            "Epoch 42/100\n",
            "17/17 [==============================] - 0s 5ms/step - loss: 290753019904.0000 - val_loss: 154609434624.0000\n",
            "Epoch 43/100\n",
            "17/17 [==============================] - 0s 4ms/step - loss: 294253789184.0000 - val_loss: 157471031296.0000\n",
            "Epoch 44/100\n",
            "17/17 [==============================] - 0s 5ms/step - loss: 285860397056.0000 - val_loss: 154630111232.0000\n",
            "Epoch 45/100\n",
            "17/17 [==============================] - 0s 5ms/step - loss: 271410806784.0000 - val_loss: 151803920384.0000\n",
            "Epoch 46/100\n",
            "17/17 [==============================] - 0s 5ms/step - loss: 288261505024.0000 - val_loss: 148925251584.0000\n",
            "Epoch 47/100\n",
            "17/17 [==============================] - 0s 5ms/step - loss: 285218340864.0000 - val_loss: 150839214080.0000\n",
            "Epoch 48/100\n",
            "17/17 [==============================] - 0s 5ms/step - loss: 274606948352.0000 - val_loss: 151140171776.0000\n",
            "Epoch 49/100\n",
            "17/17 [==============================] - 0s 6ms/step - loss: 291111534592.0000 - val_loss: 152759631872.0000\n",
            "Epoch 50/100\n",
            "17/17 [==============================] - 0s 5ms/step - loss: 287026544640.0000 - val_loss: 151982899200.0000\n",
            "Epoch 51/100\n",
            "17/17 [==============================] - 0s 6ms/step - loss: 272865804288.0000 - val_loss: 151312056320.0000\n",
            "Epoch 52/100\n",
            "17/17 [==============================] - 0s 6ms/step - loss: 273532338176.0000 - val_loss: 149782937600.0000\n",
            "Epoch 53/100\n",
            "17/17 [==============================] - 0s 5ms/step - loss: 267406360576.0000 - val_loss: 152210636800.0000\n",
            "Epoch 54/100\n",
            "17/17 [==============================] - 0s 5ms/step - loss: 292497096704.0000 - val_loss: 153206652928.0000\n",
            "Epoch 55/100\n",
            "17/17 [==============================] - 0s 4ms/step - loss: 280462065664.0000 - val_loss: 153100894208.0000\n",
            "Epoch 56/100\n",
            "17/17 [==============================] - 0s 5ms/step - loss: 285653893120.0000 - val_loss: 152371511296.0000\n",
            "Epoch 57/100\n",
            "17/17 [==============================] - 0s 4ms/step - loss: 264382660608.0000 - val_loss: 148008255488.0000\n",
            "Epoch 58/100\n",
            "17/17 [==============================] - 0s 5ms/step - loss: 286385700864.0000 - val_loss: 152944246784.0000\n",
            "Epoch 59/100\n",
            "17/17 [==============================] - 0s 6ms/step - loss: 278771105792.0000 - val_loss: 151219027968.0000\n",
            "Epoch 60/100\n",
            "17/17 [==============================] - 0s 6ms/step - loss: 269863829504.0000 - val_loss: 148553613312.0000\n",
            "Epoch 61/100\n",
            "17/17 [==============================] - 0s 5ms/step - loss: 272796139520.0000 - val_loss: 146597380096.0000\n",
            "Epoch 62/100\n",
            "17/17 [==============================] - 0s 5ms/step - loss: 282111082496.0000 - val_loss: 146294161408.0000\n",
            "Epoch 63/100\n",
            "17/17 [==============================] - 0s 5ms/step - loss: 296259977216.0000 - val_loss: 151351951360.0000\n",
            "Epoch 64/100\n",
            "17/17 [==============================] - 0s 4ms/step - loss: 271128805376.0000 - val_loss: 153230508032.0000\n",
            "Epoch 65/100\n",
            "17/17 [==============================] - 0s 4ms/step - loss: 278400630784.0000 - val_loss: 150476914688.0000\n",
            "Epoch 66/100\n",
            "17/17 [==============================] - 0s 5ms/step - loss: 274099109888.0000 - val_loss: 155546255360.0000\n",
            "Epoch 67/100\n",
            "17/17 [==============================] - 0s 4ms/step - loss: 268028968960.0000 - val_loss: 149292433408.0000\n",
            "Epoch 68/100\n",
            "17/17 [==============================] - 0s 5ms/step - loss: 264895430656.0000 - val_loss: 144567828480.0000\n",
            "Epoch 69/100\n",
            "17/17 [==============================] - 0s 6ms/step - loss: 285136420864.0000 - val_loss: 147205750784.0000\n",
            "Epoch 70/100\n",
            "17/17 [==============================] - 0s 5ms/step - loss: 268818104320.0000 - val_loss: 154718404608.0000\n",
            "Epoch 71/100\n",
            "17/17 [==============================] - 0s 4ms/step - loss: 278407741440.0000 - val_loss: 156870868992.0000\n",
            "Epoch 72/100\n",
            "17/17 [==============================] - 0s 5ms/step - loss: 275935952896.0000 - val_loss: 149919088640.0000\n",
            "Epoch 73/100\n",
            "17/17 [==============================] - 0s 6ms/step - loss: 260830789632.0000 - val_loss: 143569879040.0000\n",
            "Epoch 74/100\n",
            "17/17 [==============================] - 0s 5ms/step - loss: 270496071680.0000 - val_loss: 140678856704.0000\n",
            "Epoch 75/100\n",
            "17/17 [==============================] - 0s 6ms/step - loss: 266865573888.0000 - val_loss: 143764881408.0000\n",
            "Epoch 76/100\n",
            "17/17 [==============================] - 0s 5ms/step - loss: 288715079680.0000 - val_loss: 149031075840.0000\n",
            "Epoch 77/100\n",
            "17/17 [==============================] - 0s 5ms/step - loss: 272717004800.0000 - val_loss: 151919443968.0000\n",
            "Epoch 78/100\n",
            "17/17 [==============================] - 0s 6ms/step - loss: 290172993536.0000 - val_loss: 153305956352.0000\n",
            "Epoch 79/100\n",
            "17/17 [==============================] - 0s 5ms/step - loss: 281419874304.0000 - val_loss: 150672162816.0000\n",
            "Epoch 80/100\n",
            "17/17 [==============================] - 0s 5ms/step - loss: 263163576320.0000 - val_loss: 144426352640.0000\n",
            "Epoch 81/100\n",
            "17/17 [==============================] - 0s 5ms/step - loss: 264311537664.0000 - val_loss: 143653748736.0000\n",
            "Epoch 82/100\n",
            "17/17 [==============================] - 0s 6ms/step - loss: 266653564928.0000 - val_loss: 142087028736.0000\n",
            "Epoch 83/100\n",
            "17/17 [==============================] - 0s 6ms/step - loss: 269132136448.0000 - val_loss: 145302159360.0000\n",
            "Epoch 84/100\n",
            "17/17 [==============================] - 0s 5ms/step - loss: 275533234176.0000 - val_loss: 146835324928.0000\n",
            "Epoch 85/100\n",
            "17/17 [==============================] - 0s 6ms/step - loss: 279870504960.0000 - val_loss: 147865337856.0000\n",
            "Epoch 86/100\n",
            "17/17 [==============================] - 0s 5ms/step - loss: 276675133440.0000 - val_loss: 147699728384.0000\n",
            "Epoch 87/100\n",
            "17/17 [==============================] - 0s 5ms/step - loss: 265302245376.0000 - val_loss: 145394532352.0000\n",
            "Epoch 88/100\n",
            "17/17 [==============================] - 0s 6ms/step - loss: 260627890176.0000 - val_loss: 146148491264.0000\n",
            "Epoch 89/100\n",
            "17/17 [==============================] - 0s 8ms/step - loss: 266074472448.0000 - val_loss: 143982657536.0000\n",
            "Epoch 90/100\n",
            "17/17 [==============================] - 0s 7ms/step - loss: 277370798080.0000 - val_loss: 147063750656.0000\n",
            "Epoch 91/100\n",
            "17/17 [==============================] - 0s 8ms/step - loss: 275499253760.0000 - val_loss: 145897144320.0000\n",
            "Epoch 92/100\n",
            "17/17 [==============================] - 0s 8ms/step - loss: 270108508160.0000 - val_loss: 143547285504.0000\n",
            "Epoch 93/100\n",
            "17/17 [==============================] - 0s 8ms/step - loss: 261395349504.0000 - val_loss: 143105622016.0000\n",
            "Epoch 94/100\n",
            "17/17 [==============================] - 0s 8ms/step - loss: 268098584576.0000 - val_loss: 151798415360.0000\n",
            "Epoch 95/100\n",
            "17/17 [==============================] - 0s 9ms/step - loss: 280682987520.0000 - val_loss: 148967620608.0000\n",
            "Epoch 96/100\n",
            "17/17 [==============================] - 0s 8ms/step - loss: 274137907200.0000 - val_loss: 142414741504.0000\n",
            "Epoch 97/100\n",
            "17/17 [==============================] - 0s 9ms/step - loss: 281067978752.0000 - val_loss: 146280136704.0000\n",
            "Epoch 98/100\n",
            "17/17 [==============================] - 0s 9ms/step - loss: 262536577024.0000 - val_loss: 148269875200.0000\n",
            "Epoch 99/100\n",
            "17/17 [==============================] - 0s 8ms/step - loss: 259835527168.0000 - val_loss: 143287042048.0000\n",
            "Epoch 99: early stopping\n"
          ]
        },
        {
          "output_type": "execute_result",
          "data": {
            "text/plain": [
              "<keras.callbacks.History at 0x7efef4d65bd0>"
            ]
          },
          "metadata": {},
          "execution_count": 34
        }
      ],
      "source": [
        "model_price.fit(x=X_train,y=Y_train, validation_data=(X_test, Y_test), batch_size=128, epochs=100, callbacks=[cb])"
      ],
      "id": "4d9cea3a"
    },
    {
      "cell_type": "markdown",
      "source": [
        "#ANN"
      ],
      "metadata": {
        "id": "0NqmWgltXJWV"
      },
      "id": "0NqmWgltXJWV"
    },
    {
      "cell_type": "code",
      "execution_count": null,
      "metadata": {
        "colab": {
          "base_uri": "https://localhost:8080/",
          "height": 293
        },
        "id": "da24bb5e",
        "outputId": "6f4f396b-9614-4238-9139-1091c2479b5e"
      },
      "outputs": [
        {
          "output_type": "execute_result",
          "data": {
            "text/plain": [
              "<matplotlib.axes._subplots.AxesSubplot at 0x7efef351f6d0>"
            ]
          },
          "metadata": {},
          "execution_count": 35
        },
        {
          "output_type": "display_data",
          "data": {
            "text/plain": [
              "<Figure size 432x288 with 1 Axes>"
            ],
            "image/png": "[encoded data removed]"
          },
          "metadata": {
            "needs_background": "light"
          }
        }
      ],
      "source": [
        "losses = pd.DataFrame(model_price.history.history)\n",
        "losses.plot()"
      ],
      "id": "da24bb5e"
    },
    {
      "cell_type": "markdown",
      "metadata": {
        "id": "f7ba1490"
      },
      "source": [
        "# Test and Evaluate the Model"
      ],
      "id": "f7ba1490"
    },
    {
      "cell_type": "code",
      "execution_count": null,
      "metadata": {
        "colab": {
          "base_uri": "https://localhost:8080/"
        },
        "id": "f723afe3",
        "outputId": "f9413e1f-a415-49e5-9862-9d6276572bbd"
      },
      "outputs": [
        {
          "output_type": "stream",
          "name": "stdout",
          "text": [
            "    Actual value  Predicted value\n",
            "0        1800000        1435000.0\n",
            "1         595000         548000.0\n",
            "2         735000         712000.0\n",
            "3         465000         539000.0\n",
            "4         775000         962000.0\n",
            "5        1250000        1132000.0\n",
            "6        1050000         702000.0\n",
            "7         395000         657000.0\n",
            "8        1250000         947000.0\n",
            "9         899950        1232000.0\n",
            "10       1500000         915000.0\n",
            "11        900000         989000.0\n",
            "12       1850000        1714000.0\n",
            "13       2000000        1185000.0\n",
            "14       2000000        1201000.0\n",
            "15       1850000         954000.0\n",
            "16        730000         795000.0\n",
            "17        750000         710000.0\n",
            "18        600000         791000.0\n",
            "19        900000         895000.0\n"
          ]
        }
      ],
      "source": [
        "y_pred = model_price.predict(X_test).reshape(X_test.shape[0])\n",
        "\n",
        "# Create a dataframe to put the two columns of the true value and the prediction\n",
        "pred_df = pd.DataFrame({'Actual value':Y_test, 'Predicted value':np.round_(y_pred, -3)})\n",
        "print(pred_df.head(20))"
      ],
      "id": "f723afe3"
    },
    {
      "cell_type": "code",
      "source": [
        "res = mean_squared_error(y_true=pred_df['Actual value'], y_pred=pred_df['Predicted value'])"
      ],
      "metadata": {
        "id": "6nByHwD5BsJU"
      },
      "id": "6nByHwD5BsJU",
      "execution_count": null,
      "outputs": []
    },
    {
      "cell_type": "code",
      "source": [
        "from matplotlib import rcParams\n",
        "rcParams['figure.figsize']=8,6\n",
        "plt.scatter(Y_test,y_pred, c=y_pred, cmap = 'copper_r', alpha=.8)\n",
        "plt.colorbar()"
      ],
      "metadata": {
        "id": "yz55wN-oo8oJ",
        "colab": {
          "base_uri": "https://localhost:8080/",
          "height": 415
        },
        "outputId": "f051a09d-4749-4535-a766-ed8f52f37210"
      },
      "id": "yz55wN-oo8oJ",
      "execution_count": null,
      "outputs": [
        {
          "output_type": "execute_result",
          "data": {
            "text/plain": [
              "<matplotlib.colorbar.Colorbar at 0x7efeed4d9a50>"
            ]
          },
          "metadata": {},
          "execution_count": 43
        },
        {
          "output_type": "display_data",
          "data": {
            "text/plain": [
              "<Figure size 576x432 with 2 Axes>"
            ],
            "image/png": "[encoded data removed]"
          },
          "metadata": {
            "needs_background": "light"
          }
        }
      ]
    },
    {
      "cell_type": "code",
      "execution_count": null,
      "metadata": {
        "id": "3c6d073b",
        "colab": {
          "base_uri": "https://localhost:8080/"
        },
        "outputId": "d528e18f-7a40-490e-9f48-45b497583af4"
      },
      "outputs": [
        {
          "output_type": "execute_result",
          "data": {
            "text/plain": [
              "282397.6615384615"
            ]
          },
          "metadata": {},
          "execution_count": 44
        }
      ],
      "source": [
        "mean_absolute_error(y_true=pred_df['Predicted value'], y_pred=pred_df['Actual value'])"
      ],
      "id": "3c6d073b"
    },
    {
      "cell_type": "code",
      "execution_count": null,
      "metadata": {
        "id": "5601e33b",
        "colab": {
          "base_uri": "https://localhost:8080/"
        },
        "outputId": "ec40b697-f955-42a8-c87e-bf0837c279e3"
      },
      "outputs": [
        {
          "output_type": "stream",
          "name": "stdout",
          "text": [
            "151997230194.5346\n"
          ]
        }
      ],
      "source": [
        "print(mean_squared_error(y_true=pred_df['Actual value'], y_pred=pred_df['Predicted value']))"
      ],
      "id": "5601e33b"
    },
    {
      "cell_type": "code",
      "execution_count": null,
      "metadata": {
        "id": "YIegZQjUNVZw",
        "colab": {
          "base_uri": "https://localhost:8080/"
        },
        "outputId": "49a92f88-2c6b-485d-ad53-1c11cb666868"
      },
      "outputs": [
        {
          "output_type": "stream",
          "name": "stdout",
          "text": [
            "0.25955594084300626\n"
          ]
        }
      ],
      "source": [
        "print(mean_absolute_percentage_error(y_true=pred_df['Actual value'], y_pred=pred_df['Predicted value']))"
      ],
      "id": "YIegZQjUNVZw"
    },
    {
      "cell_type": "code",
      "execution_count": null,
      "metadata": {
        "id": "d2563fb8",
        "colab": {
          "base_uri": "https://localhost:8080/"
        },
        "outputId": "0595f6ec-e7b8-4caf-d5c8-e203a2f95a62"
      },
      "outputs": [
        {
          "output_type": "execute_result",
          "data": {
            "text/plain": [
              "0.4334332107589399"
            ]
          },
          "metadata": {},
          "execution_count": 47
        }
      ],
      "source": [
        "from sklearn.metrics import explained_variance_score\n",
        "explained_variance_score(Y_test, y_pred)"
      ],
      "id": "d2563fb8"
    },
    {
      "cell_type": "markdown",
      "metadata": {
        "id": "RbtsSG1ZBCo0"
      },
      "source": [
        "# BI LSTM"
      ],
      "id": "RbtsSG1ZBCo0"
    },
    {
      "cell_type": "code",
      "execution_count": null,
      "metadata": {
        "id": "cGQIT0_ME7RZ",
        "colab": {
          "base_uri": "https://localhost:8080/"
        },
        "outputId": "6f05b2bf-05f1-4f3a-8695-ae7533559302"
      },
      "outputs": [
        {
          "output_type": "stream",
          "name": "stdout",
          "text": [
            "Model: \"sequential_2\"\n",
            "_________________________________________________________________\n",
            " Layer (type)                Output Shape              Param #   \n",
            "=================================================================\n",
            " lstm (LSTM)                 (None, 6, 10)             480       \n",
            "                                                                 \n",
            " lstm_1 (LSTM)               (None, 6, 10)             840       \n",
            "                                                                 \n",
            " bidirectional (Bidirectiona  (None, 6, 20)            1680      \n",
            " l)                                                              \n",
            "                                                                 \n",
            " bidirectional_1 (Bidirectio  (None, 6, 20)            2480      \n",
            " nal)                                                            \n",
            "                                                                 \n",
            " dense_10 (Dense)            (None, 6, 128)            2688      \n",
            "                                                                 \n",
            " dense_11 (Dense)            (None, 6, 64)             8256      \n",
            "                                                                 \n",
            " time_distributed (TimeDistr  (None, 6, 1)             65        \n",
            " ibuted)                                                         \n",
            "                                                                 \n",
            " flatten (Flatten)           (None, 6)                 0         \n",
            "                                                                 \n",
            " dense_13 (Dense)            (None, 64)                448       \n",
            "                                                                 \n",
            " dense_14 (Dense)            (None, 1)                 65        \n",
            "                                                                 \n",
            "=================================================================\n",
            "Total params: 17,002\n",
            "Trainable params: 17,002\n",
            "Non-trainable params: 0\n",
            "_________________________________________________________________\n",
            "Epoch 1/100\n",
            "17/17 - 14s - loss: 1281063911424.0000 - val_loss: 1273700417536.0000 - 14s/epoch - 804ms/step\n",
            "Epoch 2/100\n",
            "17/17 - 0s - loss: 1281062207488.0000 - val_loss: 1273695830016.0000 - 399ms/epoch - 23ms/step\n",
            "Epoch 3/100\n",
            "17/17 - 0s - loss: 1281047396352.0000 - val_loss: 1273654280192.0000 - 340ms/epoch - 20ms/step\n",
            "Epoch 4/100\n",
            "17/17 - 0s - loss: 1280925761536.0000 - val_loss: 1273358581760.0000 - 350ms/epoch - 21ms/step\n",
            "Epoch 5/100\n",
            "17/17 - 0s - loss: 1280319815680.0000 - val_loss: 1272234246144.0000 - 365ms/epoch - 21ms/step\n",
            "Epoch 6/100\n",
            "17/17 - 1s - loss: 1278525308928.0000 - val_loss: 1269419999232.0000 - 626ms/epoch - 37ms/step\n",
            "Epoch 7/100\n",
            "17/17 - 1s - loss: 1274478592000.0000 - val_loss: 1263527395328.0000 - 611ms/epoch - 36ms/step\n",
            "Epoch 8/100\n",
            "17/17 - 1s - loss: 1266466816000.0000 - val_loss: 1252436213760.0000 - 600ms/epoch - 35ms/step\n",
            "Epoch 9/100\n",
            "17/17 - 1s - loss: 1251969728512.0000 - val_loss: 1233111089152.0000 - 623ms/epoch - 37ms/step\n",
            "Epoch 10/100\n",
            "17/17 - 0s - loss: 1227524538368.0000 - val_loss: 1201593647104.0000 - 361ms/epoch - 21ms/step\n",
            "Epoch 11/100\n",
            "17/17 - 0s - loss: 1188805214208.0000 - val_loss: 1153181417472.0000 - 361ms/epoch - 21ms/step\n",
            "Epoch 12/100\n",
            "17/17 - 0s - loss: 1130935353344.0000 - val_loss: 1082962214912.0000 - 359ms/epoch - 21ms/step\n",
            "Epoch 13/100\n",
            "17/17 - 0s - loss: 1049268387840.0000 - val_loss: 986927333376.0000 - 353ms/epoch - 21ms/step\n",
            "Epoch 14/100\n",
            "17/17 - 0s - loss: 940820398080.0000 - val_loss: 863826149376.0000 - 344ms/epoch - 20ms/step\n",
            "Epoch 15/100\n",
            "17/17 - 0s - loss: 806464782336.0000 - val_loss: 717730283520.0000 - 350ms/epoch - 21ms/step\n",
            "Epoch 16/100\n",
            "17/17 - 0s - loss: 653625196544.0000 - val_loss: 560661135360.0000 - 383ms/epoch - 23ms/step\n",
            "Epoch 17/100\n",
            "17/17 - 0s - loss: 498297372672.0000 - val_loss: 413299671040.0000 - 351ms/epoch - 21ms/step\n",
            "Epoch 18/100\n",
            "17/17 - 0s - loss: 363605458944.0000 - val_loss: 300046057472.0000 - 350ms/epoch - 21ms/step\n",
            "Epoch 19/100\n",
            "17/17 - 0s - loss: 271127216128.0000 - val_loss: 235779932160.0000 - 349ms/epoch - 21ms/step\n",
            "Epoch 20/100\n",
            "17/17 - 0s - loss: 226284158976.0000 - val_loss: 212872986624.0000 - 369ms/epoch - 22ms/step\n",
            "Epoch 21/100\n",
            "17/17 - 1s - loss: 213230075904.0000 - val_loss: 208968384512.0000 - 623ms/epoch - 37ms/step\n",
            "Epoch 22/100\n",
            "17/17 - 1s - loss: 211472154624.0000 - val_loss: 208891723776.0000 - 581ms/epoch - 34ms/step\n",
            "Epoch 23/100\n",
            "17/17 - 1s - loss: 211428950016.0000 - val_loss: 208901619712.0000 - 833ms/epoch - 49ms/step\n",
            "Epoch 24/100\n",
            "17/17 - 1s - loss: 211420119040.0000 - val_loss: 208873897984.0000 - 1s/epoch - 60ms/step\n",
            "Epoch 25/100\n",
            "17/17 - 1s - loss: 211416743936.0000 - val_loss: 208862920704.0000 - 995ms/epoch - 59ms/step\n",
            "Epoch 26/100\n",
            "17/17 - 1s - loss: 211419185152.0000 - val_loss: 208860708864.0000 - 939ms/epoch - 55ms/step\n",
            "Epoch 27/100\n",
            "17/17 - 1s - loss: 211420610560.0000 - val_loss: 208860938240.0000 - 875ms/epoch - 51ms/step\n",
            "Epoch 28/100\n",
            "17/17 - 1s - loss: 211421167616.0000 - val_loss: 208861446144.0000 - 895ms/epoch - 53ms/step\n",
            "Epoch 29/100\n",
            "17/17 - 1s - loss: 211421659136.0000 - val_loss: 208861724672.0000 - 806ms/epoch - 47ms/step\n",
            "Epoch 30/100\n",
            "17/17 - 1s - loss: 211422281728.0000 - val_loss: 208861806592.0000 - 818ms/epoch - 48ms/step\n",
            "Epoch 31/100\n",
            "17/17 - 1s - loss: 211422953472.0000 - val_loss: 208861790208.0000 - 935ms/epoch - 55ms/step\n",
            "Epoch 32/100\n",
            "17/17 - 1s - loss: 211423625216.0000 - val_loss: 208861822976.0000 - 1s/epoch - 68ms/step\n",
            "Epoch 33/100\n",
            "17/17 - 1s - loss: 211424296960.0000 - val_loss: 208861888512.0000 - 671ms/epoch - 39ms/step\n",
            "Epoch 34/100\n",
            "17/17 - 1s - loss: 211424952320.0000 - val_loss: 208861954048.0000 - 654ms/epoch - 38ms/step\n",
            "Epoch 35/100\n",
            "17/17 - 1s - loss: 211425607680.0000 - val_loss: 208861986816.0000 - 746ms/epoch - 44ms/step\n",
            "Epoch 36/100\n",
            "17/17 - 1s - loss: 211426230272.0000 - val_loss: 208862003200.0000 - 668ms/epoch - 39ms/step\n",
            "Epoch 37/100\n",
            "17/17 - 1s - loss: 211426869248.0000 - val_loss: 208862052352.0000 - 801ms/epoch - 47ms/step\n",
            "Epoch 38/100\n",
            "17/17 - 1s - loss: 211427475456.0000 - val_loss: 208862117888.0000 - 860ms/epoch - 51ms/step\n",
            "Epoch 39/100\n",
            "17/17 - 1s - loss: 211428098048.0000 - val_loss: 208862167040.0000 - 662ms/epoch - 39ms/step\n",
            "Epoch 40/100\n",
            "17/17 - 1s - loss: 211428720640.0000 - val_loss: 208862150656.0000 - 846ms/epoch - 50ms/step\n",
            "Epoch 41/100\n",
            "17/17 - 1s - loss: 211429326848.0000 - val_loss: 208862183424.0000 - 901ms/epoch - 53ms/step\n",
            "Epoch 42/100\n",
            "17/17 - 0s - loss: 211429900288.0000 - val_loss: 208862199808.0000 - 489ms/epoch - 29ms/step\n",
            "Epoch 43/100\n",
            "17/17 - 0s - loss: 211430490112.0000 - val_loss: 208862248960.0000 - 469ms/epoch - 28ms/step\n",
            "Epoch 44/100\n",
            "17/17 - 0s - loss: 211431030784.0000 - val_loss: 208862248960.0000 - 466ms/epoch - 27ms/step\n",
            "Epoch 45/100\n",
            "17/17 - 1s - loss: 211431620608.0000 - val_loss: 208862265344.0000 - 501ms/epoch - 29ms/step\n",
            "Epoch 46/100\n",
            "17/17 - 1s - loss: 211432177664.0000 - val_loss: 208862281728.0000 - 590ms/epoch - 35ms/step\n",
            "Epoch 47/100\n",
            "17/17 - 0s - loss: 211432701952.0000 - val_loss: 208862281728.0000 - 493ms/epoch - 29ms/step\n",
            "Epoch 48/100\n",
            "17/17 - 1s - loss: 211433242624.0000 - val_loss: 208862298112.0000 - 509ms/epoch - 30ms/step\n",
            "Epoch 49/100\n",
            "17/17 - 1s - loss: 211433766912.0000 - val_loss: 208862298112.0000 - 605ms/epoch - 36ms/step\n",
            "Epoch 50/100\n",
            "17/17 - 0s - loss: 211434258432.0000 - val_loss: 208862281728.0000 - 440ms/epoch - 26ms/step\n",
            "Epoch 51/100\n",
            "17/17 - 1s - loss: 211434766336.0000 - val_loss: 208862314496.0000 - 672ms/epoch - 40ms/step\n",
            "Epoch 52/100\n",
            "17/17 - 1s - loss: 211435274240.0000 - val_loss: 208862281728.0000 - 536ms/epoch - 32ms/step\n",
            "Epoch 53/100\n",
            "17/17 - 0s - loss: 211435716608.0000 - val_loss: 208862265344.0000 - 449ms/epoch - 26ms/step\n",
            "Epoch 54/100\n",
            "17/17 - 0s - loss: 211436191744.0000 - val_loss: 208862265344.0000 - 497ms/epoch - 29ms/step\n",
            "Epoch 55/100\n",
            "17/17 - 0s - loss: 211436634112.0000 - val_loss: 208862232576.0000 - 484ms/epoch - 28ms/step\n",
            "Epoch 56/100\n",
            "17/17 - 1s - loss: 211437076480.0000 - val_loss: 208862183424.0000 - 675ms/epoch - 40ms/step\n",
            "Epoch 57/100\n",
            "17/17 - 1s - loss: 211437469696.0000 - val_loss: 208862134272.0000 - 634ms/epoch - 37ms/step\n",
            "Epoch 58/100\n",
            "17/17 - 1s - loss: 211437846528.0000 - val_loss: 208862117888.0000 - 757ms/epoch - 45ms/step\n",
            "Epoch 59/100\n",
            "17/17 - 0s - loss: 211438223360.0000 - val_loss: 208862019584.0000 - 381ms/epoch - 22ms/step\n",
            "Epoch 60/100\n",
            "17/17 - 0s - loss: 211438583808.0000 - val_loss: 208861921280.0000 - 358ms/epoch - 21ms/step\n",
            "Epoch 61/100\n",
            "17/17 - 0s - loss: 211438895104.0000 - val_loss: 208861855744.0000 - 342ms/epoch - 20ms/step\n",
            "Epoch 62/100\n",
            "17/17 - 0s - loss: 211439190016.0000 - val_loss: 208861708288.0000 - 352ms/epoch - 21ms/step\n",
            "Epoch 63/100\n",
            "17/17 - 0s - loss: 211439435776.0000 - val_loss: 208861577216.0000 - 355ms/epoch - 21ms/step\n",
            "Epoch 64/100\n",
            "17/17 - 0s - loss: 211439648768.0000 - val_loss: 208861429760.0000 - 429ms/epoch - 25ms/step\n",
            "Epoch 65/100\n",
            "17/17 - 0s - loss: 211439861760.0000 - val_loss: 208861233152.0000 - 436ms/epoch - 26ms/step\n",
            "Epoch 66/100\n",
            "17/17 - 1s - loss: 211439960064.0000 - val_loss: 208861036544.0000 - 635ms/epoch - 37ms/step\n",
            "Epoch 67/100\n",
            "17/17 - 1s - loss: 211439976448.0000 - val_loss: 208860774400.0000 - 701ms/epoch - 41ms/step\n",
            "Epoch 68/100\n",
            "17/17 - 1s - loss: 211439976448.0000 - val_loss: 208860479488.0000 - 796ms/epoch - 47ms/step\n",
            "Epoch 69/100\n",
            "17/17 - 1s - loss: 211439861760.0000 - val_loss: 208860086272.0000 - 727ms/epoch - 43ms/step\n",
            "Epoch 70/100\n",
            "17/17 - 1s - loss: 211439632384.0000 - val_loss: 208859660288.0000 - 754ms/epoch - 44ms/step\n",
            "Epoch 71/100\n",
            "17/17 - 1s - loss: 211439288320.0000 - val_loss: 208859152384.0000 - 702ms/epoch - 41ms/step\n",
            "Epoch 72/100\n",
            "17/17 - 1s - loss: 211438796800.0000 - val_loss: 208858546176.0000 - 1s/epoch - 60ms/step\n",
            "Epoch 73/100\n",
            "17/17 - 1s - loss: 211438092288.0000 - val_loss: 208857825280.0000 - 1s/epoch - 60ms/step\n",
            "Epoch 74/100\n",
            "17/17 - 1s - loss: 211437109248.0000 - val_loss: 208856875008.0000 - 647ms/epoch - 38ms/step\n",
            "Epoch 75/100\n",
            "17/17 - 1s - loss: 211435814912.0000 - val_loss: 208855728128.0000 - 674ms/epoch - 40ms/step\n",
            "Epoch 76/100\n",
            "17/17 - 1s - loss: 211434078208.0000 - val_loss: 208854237184.0000 - 765ms/epoch - 45ms/step\n",
            "Epoch 77/100\n",
            "17/17 - 1s - loss: 211431653376.0000 - val_loss: 208852271104.0000 - 657ms/epoch - 39ms/step\n",
            "Epoch 78/100\n",
            "17/17 - 1s - loss: 211428311040.0000 - val_loss: 208849584128.0000 - 519ms/epoch - 31ms/step\n",
            "Epoch 79/100\n",
            "17/17 - 1s - loss: 211423346688.0000 - val_loss: 208845488128.0000 - 615ms/epoch - 36ms/step\n",
            "Epoch 80/100\n",
            "17/17 - 1s - loss: 211415121920.0000 - val_loss: 208838098944.0000 - 686ms/epoch - 40ms/step\n",
            "Epoch 81/100\n",
            "17/17 - 1s - loss: 211398393856.0000 - val_loss: 208820748288.0000 - 531ms/epoch - 31ms/step\n",
            "Epoch 82/100\n",
            "17/17 - 0s - loss: 211354140672.0000 - val_loss: 208768024576.0000 - 338ms/epoch - 20ms/step\n",
            "Epoch 83/100\n",
            "17/17 - 0s - loss: 211207733248.0000 - val_loss: 208578232320.0000 - 362ms/epoch - 21ms/step\n",
            "Epoch 84/100\n",
            "17/17 - 0s - loss: 210487607296.0000 - val_loss: 207726542848.0000 - 343ms/epoch - 20ms/step\n",
            "Epoch 85/100\n",
            "17/17 - 0s - loss: 207586148352.0000 - val_loss: 201543581696.0000 - 335ms/epoch - 20ms/step\n",
            "Epoch 86/100\n",
            "17/17 - 0s - loss: 189181493248.0000 - val_loss: 167504248832.0000 - 350ms/epoch - 21ms/step\n",
            "Epoch 87/100\n",
            "17/17 - 0s - loss: 156595453952.0000 - val_loss: 143347089408.0000 - 363ms/epoch - 21ms/step\n",
            "Epoch 88/100\n",
            "17/17 - 0s - loss: 134262145024.0000 - val_loss: 126862925824.0000 - 336ms/epoch - 20ms/step\n",
            "Epoch 89/100\n",
            "17/17 - 0s - loss: 125565288448.0000 - val_loss: 127412862976.0000 - 349ms/epoch - 21ms/step\n",
            "Epoch 90/100\n",
            "17/17 - 0s - loss: 121625141248.0000 - val_loss: 127442657280.0000 - 336ms/epoch - 20ms/step\n",
            "Epoch 91/100\n",
            "17/17 - 0s - loss: 126466867200.0000 - val_loss: 142122090496.0000 - 344ms/epoch - 20ms/step\n",
            "Epoch 92/100\n",
            "17/17 - 0s - loss: 124299141120.0000 - val_loss: 124068659200.0000 - 351ms/epoch - 21ms/step\n",
            "Epoch 93/100\n",
            "17/17 - 0s - loss: 119107469312.0000 - val_loss: 123820507136.0000 - 345ms/epoch - 20ms/step\n",
            "Epoch 94/100\n",
            "17/17 - 0s - loss: 118206013440.0000 - val_loss: 116278239232.0000 - 344ms/epoch - 20ms/step\n",
            "Epoch 95/100\n",
            "17/17 - 0s - loss: 114474188800.0000 - val_loss: 117097242624.0000 - 348ms/epoch - 20ms/step\n",
            "Epoch 96/100\n",
            "17/17 - 0s - loss: 115074359296.0000 - val_loss: 115389054976.0000 - 340ms/epoch - 20ms/step\n",
            "Epoch 97/100\n",
            "17/17 - 0s - loss: 114435850240.0000 - val_loss: 118152306688.0000 - 335ms/epoch - 20ms/step\n",
            "Epoch 98/100\n",
            "17/17 - 0s - loss: 115725565952.0000 - val_loss: 115776790528.0000 - 359ms/epoch - 21ms/step\n",
            "Epoch 99/100\n",
            "17/17 - 0s - loss: 113981251584.0000 - val_loss: 115776208896.0000 - 336ms/epoch - 20ms/step\n",
            "Epoch 100/100\n",
            "17/17 - 0s - loss: 112221691904.0000 - val_loss: 113414283264.0000 - 361ms/epoch - 21ms/step\n"
          ]
        }
      ],
      "source": [
        "import keras\n",
        "import tensorflow\n",
        "from tensorflow import keras\n",
        "\n",
        "model_lstm  = keras.models.Sequential([\n",
        "                                  keras.layers.LSTM(units=10,return_sequences=True,input_shape=[6,1]),\n",
        "                                  keras.layers.LSTM(units=10,return_sequences=True, activation='relu'),\n",
        "                                  keras.layers.Bidirectional(keras.layers.LSTM(units=10, return_sequences=True)),\n",
        "                                  keras.layers.Bidirectional(keras.layers.LSTM(units=10, return_sequences=True)),\n",
        "                                  keras.layers.Dense(units=128, activation='relu'),\n",
        "                                  keras.layers.Dense(units=64, activation='relu'),\n",
        "                                  keras.layers.TimeDistributed(keras.layers.Dense(1, activation='linear')),\n",
        "                                  keras.layers.Flatten(),\n",
        "                                  keras.layers.Dense(units=64, activation='relu'),\n",
        "                                  keras.layers.Dense(1, activation='linear')\n",
        "])\n",
        "\n",
        "model_lstm.summary()\n",
        "model_lstm.compile(loss='mean_squared_error', optimizer='adam')\n",
        "# fit network\n",
        "history = model_lstm.fit(X_train, Y_train, epochs=100, batch_size=128, validation_data=(X_test, Y_test),verbose=2, shuffle=False)"
      ],
      "id": "cGQIT0_ME7RZ"
    },
    {
      "cell_type": "markdown",
      "source": [
        "#BI LSTM"
      ],
      "metadata": {
        "id": "-TCJsS8DYPk7"
      },
      "id": "-TCJsS8DYPk7"
    },
    {
      "cell_type": "code",
      "source": [
        "losses = pd.DataFrame(model_lstm.history.history)\n",
        "losses.plot()"
      ],
      "metadata": {
        "colab": {
          "base_uri": "https://localhost:8080/",
          "height": 293
        },
        "id": "26nBNFxs6_Ij",
        "outputId": "08e99e7c-0df0-4805-8225-199eb6957b5c"
      },
      "id": "26nBNFxs6_Ij",
      "execution_count": null,
      "outputs": [
        {
          "output_type": "execute_result",
          "data": {
            "text/plain": [
              "<matplotlib.axes._subplots.AxesSubplot at 0x7efeecdff1d0>"
            ]
          },
          "metadata": {},
          "execution_count": 37
        },
        {
          "output_type": "display_data",
          "data": {
            "text/plain": [
              "<Figure size 432x288 with 1 Axes>"
            ],
            "image/png": "[encoded data removed]"
          },
          "metadata": {
            "needs_background": "light"
          }
        }
      ]
    },
    {
      "cell_type": "code",
      "execution_count": null,
      "metadata": {
        "id": "djXocka_LKGQ",
        "colab": {
          "base_uri": "https://localhost:8080/"
        },
        "outputId": "c4c5cd86-df6f-4f86-dd45-1df71965cf61"
      },
      "outputs": [
        {
          "output_type": "stream",
          "name": "stdout",
          "text": [
            "    Actual value  Predicted value\n",
            "0        1800000        1573000.0\n",
            "1         595000         599000.0\n",
            "2         735000         806000.0\n",
            "3         465000         576000.0\n",
            "4         775000        1145000.0\n",
            "5        1250000        1445000.0\n",
            "6        1050000         777000.0\n",
            "7         395000         745000.0\n",
            "8        1250000        1151000.0\n",
            "9         899950        1471000.0\n",
            "10       1500000        1138000.0\n",
            "11        900000        1156000.0\n",
            "12       1850000        1556000.0\n",
            "13       2000000        1525000.0\n",
            "14       2000000        1533000.0\n",
            "15       1850000        1154000.0\n",
            "16        730000         815000.0\n",
            "17        750000         803000.0\n",
            "18        600000         805000.0\n",
            "19        900000        1105000.0\n"
          ]
        }
      ],
      "source": [
        "z_pred = model_lstm.predict(X_test)\n",
        "z_pred = z_pred.reshape([X_test.shape[0]])\n",
        "# Create a dataframe to put the two columns of the true value and the prediction\n",
        "pred_df2 = pd.DataFrame({'Actual value':Y_test, 'Predicted value':np.round_(z_pred, -3)})\n",
        "print(pred_df2.head(20))"
      ],
      "id": "djXocka_LKGQ"
    },
    {
      "cell_type": "code",
      "source": [
        "from matplotlib import rcParams\n",
        "rcParams['figure.figsize']=8,6\n",
        "plt.scatter(Y_test,z_pred, c=z_pred, cmap = 'copper_r', alpha=.8)\n",
        "plt.colorbar()"
      ],
      "metadata": {
        "id": "Y_8j7AdIwMvS",
        "colab": {
          "base_uri": "https://localhost:8080/",
          "height": 415
        },
        "outputId": "3de26c87-8bbc-4dd6-c7ae-d8ca01ff4519"
      },
      "id": "Y_8j7AdIwMvS",
      "execution_count": null,
      "outputs": [
        {
          "output_type": "execute_result",
          "data": {
            "text/plain": [
              "<matplotlib.colorbar.Colorbar at 0x7efeed60f110>"
            ]
          },
          "metadata": {},
          "execution_count": 41
        },
        {
          "output_type": "display_data",
          "data": {
            "text/plain": [
              "<Figure size 576x432 with 2 Axes>"
            ],
            "image/png": "[encoded data removed]"
          },
          "metadata": {
            "needs_background": "light"
          }
        }
      ]
    },
    {
      "cell_type": "markdown",
      "metadata": {
        "id": "bCXQ-vXNhYKU"
      },
      "source": [
        "# RNN"
      ],
      "id": "bCXQ-vXNhYKU"
    },
    {
      "cell_type": "code",
      "execution_count": null,
      "metadata": {
        "id": "ZWMmE1cvhcch",
        "colab": {
          "base_uri": "https://localhost:8080/"
        },
        "outputId": "b3a3cce8-f8da-4e8e-c870-cd18d1f94f9d"
      },
      "outputs": [
        {
          "output_type": "stream",
          "name": "stdout",
          "text": [
            "Model: \"sequential_3\"\n",
            "_________________________________________________________________\n",
            " Layer (type)                Output Shape              Param #   \n",
            "=================================================================\n",
            " lstm_4 (LSTM)               (None, 6, 10)             480       \n",
            "                                                                 \n",
            " lstm_5 (LSTM)               (None, 6, 10)             840       \n",
            "                                                                 \n",
            " dense_15 (Dense)            (None, 6, 64)             704       \n",
            "                                                                 \n",
            " time_distributed_1 (TimeDis  (None, 6, 1)             65        \n",
            " tributed)                                                       \n",
            "                                                                 \n",
            " flatten_1 (Flatten)         (None, 6)                 0         \n",
            "                                                                 \n",
            " dense_17 (Dense)            (None, 64)                448       \n",
            "                                                                 \n",
            " dense_18 (Dense)            (None, 32)                2080      \n",
            "                                                                 \n",
            " dense_19 (Dense)            (None, 1)                 33        \n",
            "                                                                 \n",
            "=================================================================\n",
            "Total params: 4,650\n",
            "Trainable params: 4,650\n",
            "Non-trainable params: 0\n",
            "_________________________________________________________________\n",
            "Epoch 1/100\n",
            "17/17 - 5s - loss: 1034251.8125 - val_loss: 1031913.1875 - 5s/epoch - 279ms/step\n",
            "Epoch 2/100\n",
            "17/17 - 0s - loss: 1034251.3750 - val_loss: 1031912.3125 - 167ms/epoch - 10ms/step\n",
            "Epoch 3/100\n",
            "17/17 - 0s - loss: 1034249.7500 - val_loss: 1031909.0625 - 154ms/epoch - 9ms/step\n",
            "Epoch 4/100\n",
            "17/17 - 0s - loss: 1034242.6250 - val_loss: 1031893.3125 - 161ms/epoch - 9ms/step\n",
            "Epoch 5/100\n",
            "17/17 - 0s - loss: 1034197.5625 - val_loss: 1031773.1875 - 166ms/epoch - 10ms/step\n",
            "Epoch 6/100\n",
            "17/17 - 0s - loss: 1033809.7500 - val_loss: 1030731.0000 - 160ms/epoch - 9ms/step\n",
            "Epoch 7/100\n",
            "17/17 - 0s - loss: 1030942.0625 - val_loss: 1023962.8125 - 158ms/epoch - 9ms/step\n",
            "Epoch 8/100\n",
            "17/17 - 0s - loss: 1015091.3125 - val_loss: 989775.0625 - 167ms/epoch - 10ms/step\n",
            "Epoch 9/100\n",
            "17/17 - 0s - loss: 942386.0000 - val_loss: 843098.6875 - 153ms/epoch - 9ms/step\n",
            "Epoch 10/100\n",
            "17/17 - 0s - loss: 664144.3750 - val_loss: 406648.5938 - 172ms/epoch - 10ms/step\n",
            "Epoch 11/100\n",
            "17/17 - 0s - loss: 383385.2188 - val_loss: 384976.7500 - 154ms/epoch - 9ms/step\n",
            "Epoch 12/100\n",
            "17/17 - 0s - loss: 366603.2500 - val_loss: 372227.3125 - 169ms/epoch - 10ms/step\n",
            "Epoch 13/100\n",
            "17/17 - 0s - loss: 363949.4688 - val_loss: 370727.0938 - 163ms/epoch - 10ms/step\n",
            "Epoch 14/100\n",
            "17/17 - 0s - loss: 362073.7188 - val_loss: 369193.4375 - 158ms/epoch - 9ms/step\n",
            "Epoch 15/100\n",
            "17/17 - 0s - loss: 361740.6250 - val_loss: 369383.3750 - 165ms/epoch - 10ms/step\n",
            "Epoch 16/100\n",
            "17/17 - 0s - loss: 361187.0625 - val_loss: 368755.0312 - 157ms/epoch - 9ms/step\n",
            "Epoch 17/100\n",
            "17/17 - 0s - loss: 360840.7500 - val_loss: 368613.7500 - 172ms/epoch - 10ms/step\n",
            "Epoch 18/100\n",
            "17/17 - 0s - loss: 360366.1250 - val_loss: 368135.7812 - 170ms/epoch - 10ms/step\n",
            "Epoch 19/100\n",
            "17/17 - 0s - loss: 359947.3125 - val_loss: 367858.3438 - 167ms/epoch - 10ms/step\n",
            "Epoch 20/100\n",
            "17/17 - 0s - loss: 359460.5625 - val_loss: 367406.2188 - 158ms/epoch - 9ms/step\n",
            "Epoch 21/100\n",
            "17/17 - 0s - loss: 358967.3438 - val_loss: 367026.2500 - 160ms/epoch - 9ms/step\n",
            "Epoch 22/100\n",
            "17/17 - 0s - loss: 358425.4375 - val_loss: 366561.1250 - 158ms/epoch - 9ms/step\n",
            "Epoch 23/100\n",
            "17/17 - 0s - loss: 357814.9062 - val_loss: 366020.5938 - 165ms/epoch - 10ms/step\n",
            "Epoch 24/100\n",
            "17/17 - 0s - loss: 357174.9062 - val_loss: 365464.4375 - 170ms/epoch - 10ms/step\n",
            "Epoch 25/100\n",
            "17/17 - 0s - loss: 356482.0625 - val_loss: 364909.3750 - 156ms/epoch - 9ms/step\n",
            "Epoch 26/100\n",
            "17/17 - 0s - loss: 355744.0312 - val_loss: 364309.0312 - 159ms/epoch - 9ms/step\n",
            "Epoch 27/100\n",
            "17/17 - 0s - loss: 354917.0938 - val_loss: 363637.0625 - 166ms/epoch - 10ms/step\n",
            "Epoch 28/100\n",
            "17/17 - 0s - loss: 353997.8125 - val_loss: 362854.8125 - 175ms/epoch - 10ms/step\n",
            "Epoch 29/100\n",
            "17/17 - 0s - loss: 353020.6562 - val_loss: 361987.8750 - 161ms/epoch - 9ms/step\n",
            "Epoch 30/100\n",
            "17/17 - 0s - loss: 351830.3750 - val_loss: 360915.1875 - 187ms/epoch - 11ms/step\n",
            "Epoch 31/100\n",
            "17/17 - 0s - loss: 350465.5000 - val_loss: 359614.1250 - 174ms/epoch - 10ms/step\n",
            "Epoch 32/100\n",
            "17/17 - 0s - loss: 348781.2188 - val_loss: 357963.3125 - 169ms/epoch - 10ms/step\n",
            "Epoch 33/100\n",
            "17/17 - 0s - loss: 346833.1562 - val_loss: 355897.3750 - 164ms/epoch - 10ms/step\n",
            "Epoch 34/100\n",
            "17/17 - 0s - loss: 344607.5938 - val_loss: 353624.7500 - 155ms/epoch - 9ms/step\n",
            "Epoch 35/100\n",
            "17/17 - 0s - loss: 341744.6250 - val_loss: 350723.0000 - 168ms/epoch - 10ms/step\n",
            "Epoch 36/100\n",
            "17/17 - 0s - loss: 338211.5625 - val_loss: 346853.4062 - 175ms/epoch - 10ms/step\n",
            "Epoch 37/100\n",
            "17/17 - 0s - loss: 334248.0000 - val_loss: 342963.0938 - 162ms/epoch - 10ms/step\n",
            "Epoch 38/100\n",
            "17/17 - 0s - loss: 329273.0625 - val_loss: 336945.9062 - 164ms/epoch - 10ms/step\n",
            "Epoch 39/100\n",
            "17/17 - 0s - loss: 321593.8438 - val_loss: 325806.3750 - 159ms/epoch - 9ms/step\n",
            "Epoch 40/100\n",
            "17/17 - 0s - loss: 307713.1562 - val_loss: 306408.2500 - 162ms/epoch - 10ms/step\n",
            "Epoch 41/100\n",
            "17/17 - 0s - loss: 291681.3438 - val_loss: 297633.5625 - 175ms/epoch - 10ms/step\n",
            "Epoch 42/100\n",
            "17/17 - 0s - loss: 284479.3125 - val_loss: 287238.3750 - 166ms/epoch - 10ms/step\n",
            "Epoch 43/100\n",
            "17/17 - 0s - loss: 277410.7500 - val_loss: 293188.0625 - 167ms/epoch - 10ms/step\n",
            "Epoch 44/100\n",
            "17/17 - 0s - loss: 272600.3438 - val_loss: 302925.8750 - 158ms/epoch - 9ms/step\n",
            "Epoch 45/100\n",
            "17/17 - 0s - loss: 271025.7500 - val_loss: 270209.0625 - 163ms/epoch - 10ms/step\n",
            "Epoch 46/100\n",
            "17/17 - 0s - loss: 262128.2188 - val_loss: 274370.6250 - 161ms/epoch - 9ms/step\n",
            "Epoch 47/100\n",
            "17/17 - 0s - loss: 262359.8438 - val_loss: 271081.9062 - 160ms/epoch - 9ms/step\n",
            "Epoch 48/100\n",
            "17/17 - 0s - loss: 261293.3125 - val_loss: 276318.7812 - 169ms/epoch - 10ms/step\n",
            "Epoch 49/100\n",
            "17/17 - 0s - loss: 262027.1562 - val_loss: 269034.5938 - 172ms/epoch - 10ms/step\n",
            "Epoch 50/100\n",
            "17/17 - 0s - loss: 260539.5938 - val_loss: 274792.6562 - 156ms/epoch - 9ms/step\n",
            "Epoch 51/100\n",
            "17/17 - 0s - loss: 261795.9531 - val_loss: 267303.1562 - 159ms/epoch - 9ms/step\n",
            "Epoch 52/100\n",
            "17/17 - 0s - loss: 259522.6250 - val_loss: 274366.5625 - 165ms/epoch - 10ms/step\n",
            "Epoch 53/100\n",
            "17/17 - 0s - loss: 261426.6562 - val_loss: 266191.6250 - 166ms/epoch - 10ms/step\n",
            "Epoch 54/100\n",
            "17/17 - 0s - loss: 258944.2500 - val_loss: 274601.2188 - 175ms/epoch - 10ms/step\n",
            "Epoch 55/100\n",
            "17/17 - 0s - loss: 260827.8125 - val_loss: 266487.4375 - 163ms/epoch - 10ms/step\n",
            "Epoch 56/100\n",
            "17/17 - 0s - loss: 258711.4844 - val_loss: 268771.3750 - 167ms/epoch - 10ms/step\n",
            "Epoch 57/100\n",
            "17/17 - 0s - loss: 259182.7656 - val_loss: 265995.1250 - 157ms/epoch - 9ms/step\n",
            "Epoch 58/100\n",
            "17/17 - 0s - loss: 258203.1094 - val_loss: 266250.9062 - 165ms/epoch - 10ms/step\n",
            "Epoch 59/100\n",
            "17/17 - 0s - loss: 258162.7969 - val_loss: 266277.1250 - 157ms/epoch - 9ms/step\n",
            "Epoch 60/100\n",
            "17/17 - 0s - loss: 257964.6406 - val_loss: 265463.7188 - 187ms/epoch - 11ms/step\n",
            "Epoch 61/100\n",
            "17/17 - 0s - loss: 257811.6094 - val_loss: 265630.3438 - 155ms/epoch - 9ms/step\n",
            "Epoch 62/100\n",
            "17/17 - 0s - loss: 257681.0000 - val_loss: 265221.0625 - 158ms/epoch - 9ms/step\n",
            "Epoch 63/100\n",
            "17/17 - 0s - loss: 257367.8906 - val_loss: 265364.1250 - 162ms/epoch - 10ms/step\n",
            "Epoch 64/100\n",
            "17/17 - 0s - loss: 257210.2031 - val_loss: 265474.1562 - 163ms/epoch - 10ms/step\n",
            "Epoch 65/100\n",
            "17/17 - 0s - loss: 256958.1719 - val_loss: 264524.8438 - 178ms/epoch - 10ms/step\n",
            "Epoch 66/100\n",
            "17/17 - 0s - loss: 256991.4844 - val_loss: 264658.3438 - 181ms/epoch - 11ms/step\n",
            "Epoch 67/100\n",
            "17/17 - 0s - loss: 256918.9844 - val_loss: 264792.9688 - 162ms/epoch - 10ms/step\n",
            "Epoch 68/100\n",
            "17/17 - 0s - loss: 256530.3438 - val_loss: 263938.5000 - 156ms/epoch - 9ms/step\n",
            "Epoch 69/100\n",
            "17/17 - 0s - loss: 256424.4531 - val_loss: 264140.2500 - 160ms/epoch - 9ms/step\n",
            "Epoch 70/100\n",
            "17/17 - 0s - loss: 256091.7656 - val_loss: 263205.4688 - 170ms/epoch - 10ms/step\n",
            "Epoch 71/100\n",
            "17/17 - 0s - loss: 256039.3281 - val_loss: 262981.6562 - 165ms/epoch - 10ms/step\n",
            "Epoch 72/100\n",
            "17/17 - 0s - loss: 255988.3594 - val_loss: 263335.0000 - 179ms/epoch - 11ms/step\n",
            "Epoch 73/100\n",
            "17/17 - 0s - loss: 255721.5469 - val_loss: 262107.8125 - 152ms/epoch - 9ms/step\n",
            "Epoch 74/100\n",
            "17/17 - 0s - loss: 255390.8281 - val_loss: 263361.9062 - 166ms/epoch - 10ms/step\n",
            "Epoch 75/100\n",
            "17/17 - 0s - loss: 255739.6094 - val_loss: 262036.4375 - 162ms/epoch - 10ms/step\n",
            "Epoch 76/100\n",
            "17/17 - 0s - loss: 255087.8125 - val_loss: 265125.8125 - 172ms/epoch - 10ms/step\n",
            "Epoch 77/100\n",
            "17/17 - 0s - loss: 255851.9531 - val_loss: 262713.3438 - 165ms/epoch - 10ms/step\n",
            "Epoch 78/100\n",
            "17/17 - 0s - loss: 254801.5625 - val_loss: 260642.9219 - 182ms/epoch - 11ms/step\n",
            "Epoch 79/100\n",
            "17/17 - 0s - loss: 254581.7188 - val_loss: 262307.9375 - 178ms/epoch - 10ms/step\n",
            "Epoch 80/100\n",
            "17/17 - 0s - loss: 255034.9844 - val_loss: 261766.8906 - 157ms/epoch - 9ms/step\n",
            "Epoch 81/100\n",
            "17/17 - 0s - loss: 254314.4375 - val_loss: 260670.9219 - 156ms/epoch - 9ms/step\n",
            "Epoch 82/100\n",
            "17/17 - 0s - loss: 254184.1719 - val_loss: 260369.4844 - 173ms/epoch - 10ms/step\n",
            "Epoch 83/100\n",
            "17/17 - 0s - loss: 253900.9688 - val_loss: 259549.5625 - 163ms/epoch - 10ms/step\n",
            "Epoch 84/100\n",
            "17/17 - 0s - loss: 253973.7031 - val_loss: 260233.5000 - 170ms/epoch - 10ms/step\n",
            "Epoch 85/100\n",
            "17/17 - 0s - loss: 253829.7500 - val_loss: 259965.5625 - 164ms/epoch - 10ms/step\n",
            "Epoch 86/100\n",
            "17/17 - 0s - loss: 253662.8281 - val_loss: 259286.6719 - 173ms/epoch - 10ms/step\n",
            "Epoch 87/100\n",
            "17/17 - 0s - loss: 253462.9844 - val_loss: 258247.9062 - 154ms/epoch - 9ms/step\n",
            "Epoch 88/100\n",
            "17/17 - 0s - loss: 253216.3438 - val_loss: 258227.5938 - 155ms/epoch - 9ms/step\n",
            "Epoch 89/100\n",
            "17/17 - 0s - loss: 253299.6875 - val_loss: 258831.2969 - 162ms/epoch - 10ms/step\n",
            "Epoch 90/100\n",
            "17/17 - 0s - loss: 253334.4531 - val_loss: 258128.1562 - 172ms/epoch - 10ms/step\n",
            "Epoch 91/100\n",
            "17/17 - 0s - loss: 252875.7969 - val_loss: 257300.6562 - 166ms/epoch - 10ms/step\n",
            "Epoch 92/100\n",
            "17/17 - 0s - loss: 252978.4062 - val_loss: 258565.8125 - 245ms/epoch - 14ms/step\n",
            "Epoch 93/100\n",
            "17/17 - 0s - loss: 253089.7500 - val_loss: 258448.2500 - 363ms/epoch - 21ms/step\n",
            "Epoch 94/100\n",
            "17/17 - 0s - loss: 252942.6562 - val_loss: 257964.7500 - 415ms/epoch - 24ms/step\n",
            "Epoch 95/100\n",
            "17/17 - 0s - loss: 252701.0469 - val_loss: 258157.5000 - 387ms/epoch - 23ms/step\n",
            "Epoch 96/100\n",
            "17/17 - 0s - loss: 252692.0312 - val_loss: 258408.4375 - 273ms/epoch - 16ms/step\n",
            "Epoch 97/100\n",
            "17/17 - 0s - loss: 252615.3125 - val_loss: 257584.1562 - 316ms/epoch - 19ms/step\n",
            "Epoch 98/100\n",
            "17/17 - 0s - loss: 252317.0781 - val_loss: 257236.7656 - 232ms/epoch - 14ms/step\n",
            "Epoch 99/100\n",
            "17/17 - 0s - loss: 252147.6094 - val_loss: 256456.9531 - 247ms/epoch - 15ms/step\n",
            "Epoch 100/100\n",
            "17/17 - 0s - loss: 251928.4375 - val_loss: 256251.6094 - 292ms/epoch - 17ms/step\n"
          ]
        }
      ],
      "source": [
        "import keras\n",
        "import tensorflow\n",
        "from tensorflow import keras\n",
        "model_rnn  = keras.models.Sequential([\n",
        "                                  keras.layers.LSTM(units=10,return_sequences=True,input_shape=[6,1]),\n",
        "                                  keras.layers.LSTM(units=10,return_sequences=True, activation='relu'),\n",
        "                                  keras.layers.Dense(units=64, activation='relu'),\n",
        "                                  keras.layers.TimeDistributed(keras.layers.Dense(1, activation='linear')),\n",
        "                                  keras.layers.Flatten(),\n",
        "                                  keras.layers.Dense(units=64, activation='relu'),\n",
        "                                  keras.layers.Dense(units=32, activation='relu'),\n",
        "                                  keras.layers.Dense(1, activation='linear')\n",
        "])\n",
        "model_rnn.summary()\n",
        "model_rnn.compile(loss='mean_absolute_error', optimizer='adam')\n",
        "# fit network\n",
        "history = model_rnn.fit(X_train, Y_train, epochs=100, batch_size=128, validation_data=(X_test, Y_test),verbose=2, shuffle=False)"
      ],
      "id": "ZWMmE1cvhcch"
    },
    {
      "cell_type": "markdown",
      "source": [
        "#RNN"
      ],
      "metadata": {
        "id": "lYyL6luaYe0b"
      },
      "id": "lYyL6luaYe0b"
    },
    {
      "cell_type": "code",
      "source": [
        "losses = pd.DataFrame(model_rnn.history.history)\n",
        "losses.plot()"
      ],
      "metadata": {
        "colab": {
          "base_uri": "https://localhost:8080/",
          "height": 402
        },
        "id": "1rS7HcHN7GKi",
        "outputId": "a0486945-aa77-468a-b9c9-788fbbe19cc3"
      },
      "id": "1rS7HcHN7GKi",
      "execution_count": null,
      "outputs": [
        {
          "output_type": "execute_result",
          "data": {
            "text/plain": [
              "<matplotlib.axes._subplots.AxesSubplot at 0x7efeed4bd090>"
            ]
          },
          "metadata": {},
          "execution_count": 49
        },
        {
          "output_type": "display_data",
          "data": {
            "text/plain": [
              "<Figure size 576x432 with 1 Axes>"
            ],
            "image/png": "[encoded data removed]"
          },
          "metadata": {
            "needs_background": "light"
          }
        }
      ]
    },
    {
      "cell_type": "code",
      "source": [
        "x_pred = model_rnn.predict(X_test)\n",
        "x_pred = z_pred.reshape([X_test.shape[0]])\n",
        "# Create a dataframe to put the two columns of the true value and the prediction\n",
        "pred_df3 = pd.DataFrame({'Actual value':Y_test, 'Predicted value':np.round_(x_pred, -3)})\n",
        "print(pred_df3.tail(20))"
      ],
      "metadata": {
        "id": "ark4Eo-sqSNt",
        "colab": {
          "base_uri": "https://localhost:8080/"
        },
        "outputId": "a3e290ec-1af8-4028-b909-9de21955de0b"
      },
      "id": "ark4Eo-sqSNt",
      "execution_count": null,
      "outputs": [
        {
          "output_type": "stream",
          "name": "stdout",
          "text": [
            "     Actual value  Predicted value\n",
            "500       1500000        1553000.0\n",
            "501       1495000        1571000.0\n",
            "502        375000         514000.0\n",
            "503       1385000        1447000.0\n",
            "504       1350000        1052000.0\n",
            "505       1550000         912000.0\n",
            "506       1500000         906000.0\n",
            "507       1535000        1550000.0\n",
            "508       1850000        1027000.0\n",
            "509       1595000        1528000.0\n",
            "510        500000         535000.0\n",
            "511        500000         968000.0\n",
            "512        595000         613000.0\n",
            "513       1850000        1548000.0\n",
            "514       1175000        1406000.0\n",
            "515       2000000        1317000.0\n",
            "516       1300000        1138000.0\n",
            "517       1000000         928000.0\n",
            "518       2000000        1555000.0\n",
            "519       1225000        1146000.0\n"
          ]
        }
      ]
    },
    {
      "cell_type": "code",
      "source": [
        "from matplotlib import rcParams\n",
        "rcParams['figure.figsize']=8,6\n",
        "plt.scatter(Y_test,x_pred, c=x_pred, cmap = 'copper', alpha=.8)\n",
        "plt.colorbar()"
      ],
      "metadata": {
        "id": "MT3zTcLksCG_",
        "colab": {
          "base_uri": "https://localhost:8080/",
          "height": 415
        },
        "outputId": "8a2a3aa9-40c6-4cfd-9ad0-4fd47244a403"
      },
      "id": "MT3zTcLksCG_",
      "execution_count": null,
      "outputs": [
        {
          "output_type": "execute_result",
          "data": {
            "text/plain": [
              "<matplotlib.colorbar.Colorbar at 0x7efeedce1e10>"
            ]
          },
          "metadata": {},
          "execution_count": 51
        },
        {
          "output_type": "display_data",
          "data": {
            "text/plain": [
              "<Figure size 576x432 with 2 Axes>"
            ],
            "image/png": "[encoded data removed]"
          },
          "metadata": {
            "needs_background": "light"
          }
        }
      ]
    },
    {
      "cell_type": "code",
      "source": [],
      "metadata": {
        "id": "9ypoDgGdr323"
      },
      "id": "9ypoDgGdr323",
      "execution_count": null,
      "outputs": []
    }
  ],
  "metadata": {
    "colab": {
      "collapsed_sections": [],
      "provenance": []
    },
    "kernelspec": {
      "display_name": "Python 3",
      "language": "python",
      "name": "python3"
    },
    "language_info": {
      "codemirror_mode": {
        "name": "ipython",
        "version": 3
      },
      "file_extension": ".py",
      "mimetype": "text/x-python",
      "name": "python",
      "nbconvert_exporter": "python",
      "pygments_lexer": "ipython3",
      "version": "3.7.10"
    },
    "papermill": {
      "default_parameters": {},
      "duration": 62.957184,
      "end_time": "2021-09-15T10:15:31.451684",
      "environment_variables": {},
      "exception": null,
      "input_path": "__notebook__.ipynb",
      "output_path": "__notebook__.ipynb",
      "parameters": {},
      "start_time": "2021-09-15T10:14:28.494500",
      "version": "2.3.3"
    }
  },
  "nbformat": 4,
  "nbformat_minor": 5
}